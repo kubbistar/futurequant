{
 "cells": [
  {
   "cell_type": "code",
   "execution_count": 1,
   "metadata": {},
   "outputs": [],
   "source": [
    "import pymongo\n",
    "from TT import MACD,RSI,KDJ\n",
    "import pandas as pd"
   ]
  },
  {
   "cell_type": "code",
   "execution_count": null,
   "metadata": {},
   "outputs": [],
   "source": [
    "# 数据库相关\n",
    "\n",
    "import pymongo\n",
    "\n",
    "DCE_DB_NAME = \"DCEdb\"\n",
    "DCE_COMMODITY_PRICE_COLLECTION_NAME = \"CommodityPriceDb\"\n",
    "DCE_FUTURE_PRICE_COLLECTION_NAME = \"DCEFuturePriceDb\"\n",
    "DCE_FUTURE_CODE_COLLECTION_NAME = 'DCEFutureCodeDb'\n",
    "COSMOS_CONNECTION_STRING = 'mongodb://lei:WMNi1Hh4vyOVG4V3OLcyaoZwOOl7YVHUUiKFeuGKbiS9rytxi2qd2VpnekCYj8IVrN6AFVHvLBUxACDb7vuFnA==@lei.mongo.cosmos.azure.com:10255/?ssl=true&replicaSet=globaldb&retrywrites=false&maxIdleTimeMS=120000&appName=@lei@'\n",
    "\n",
    "client = pymongo.MongoClient(COSMOS_CONNECTION_STRING)\n",
    "DCEdb = client[DCE_DB_NAME]\n",
    "\n",
    "DCE_future_price_collection = DCEdb[DCE_FUTURE_PRICE_COLLECTION_NAME]\n",
    "DCE_commodity_price_collection = DCEdb[DCE_COMMODITY_PRICE_COLLECTION_NAME]\n"
   ]
  },
  {
   "cell_type": "code",
   "execution_count": null,
   "metadata": {},
   "outputs": [],
   "source": [
    "def get_future_daily_price(start=None, end=None,code=[]):\n",
    "    '''查询commodityprice表，获取某个商品或代码的历史现价，基差等\n",
    "    '''\n",
    "    if len(code)!=0:\n",
    "        future_price_docs = DCE_commodity_price_collection.find(\n",
    "                            {\"$and\":[\n",
    "                                {'date':{'$gte':start}},\n",
    "                                {'date':{'$lte':end}},\n",
    "                                {'main_future_code':{'$in':code}}]}\n",
    "                            ).sort(\"update_time\", pymongo.ASCENDING)\n",
    "    else:\n",
    "        future_price_docs = DCE_commodity_price_collection.find(\n",
    "                            {\"$and\":[\n",
    "                                {'date':{'$gte':start}},\n",
    "                                {'date':{'$lte':end}}]}\n",
    "                            ).sort(\"update_time\", pymongo.ASCENDING)\n",
    "    return future_price_docs"
   ]
  },
  {
   "cell_type": "code",
   "execution_count": null,
   "metadata": {},
   "outputs": [],
   "source": [
    "def get_future_price(start=None,end=None,code=[],):\n",
    "    '''获取某个现货的相关信息\n",
    "    '''\n",
    "    if len(code)!=0:\n",
    "        future_price_docs = DCE_future_price_collection.find(\n",
    "                            {\"$and\":[\n",
    "                                {'date':{'$gte':start}},\n",
    "                                {'date':{'$lte':end}},\n",
    "                                {'future_code':{'$in':code}}]}\n",
    "                            ).sort(\"update_time\", pymongo.ASCENDING)\n",
    "    else:\n",
    "        future_price_docs = DCE_future_price_collection.find(\n",
    "                            {\"$and\":[\n",
    "                                {'date':{'$gte':start}},\n",
    "                                {'date':{'$lte':end}}]}\n",
    "                            ).sort(\"update_time\", pymongo.ASCENDING)\n",
    "    return future_price_docs"
   ]
  },
  {
   "cell_type": "code",
   "execution_count": null,
   "metadata": {},
   "outputs": [],
   "source": [
    "# 检查数据库查询结果\n",
    "info = pd.DataFrame([i for i in get_future_daily_price('2023-09-08','2023-09-10',['CU2003'])])\n",
    "print(info)"
   ]
  },
  {
   "cell_type": "code",
   "execution_count": null,
   "metadata": {},
   "outputs": [],
   "source": [
    "# info = pd.DataFrame([i for i in get_future_price('2023-09-12','2023-09-12',['J2401']) if 90000<= i['clock'] <=110000])\n",
    "info = pd.DataFrame([i for i in get_future_daily_price('2001-01-01','2022-01-01',['CU2003'])])\n",
    "info.head() "
   ]
  },
  {
   "cell_type": "code",
   "execution_count": 2,
   "metadata": {},
   "outputs": [],
   "source": [
    "# 获取某个期货的历史每日信息，KDJ,RSI,MACD的计算都需要每日的数据，下面是临时获取方法：\n",
    "start = '1978-01-01'\n",
    "end = '2025-01-01'\n",
    "# 需要其他期货数据，修改此处代码\n",
    "code = 'J2310'\n",
    "\n",
    "allpage = 300\n",
    "# page_url = 'https://vip.stock.finance.sina.com.cn/q/view/vFutures_History.php?page='+str(2)+'&breed='+code+'&type=inner&start='+start+'&end='+end"
   ]
  },
  {
   "cell_type": "code",
   "execution_count": 3,
   "metadata": {},
   "outputs": [],
   "source": [
    "# 下面为KDJ等参数的计算，由于数据库中暂时不包含一个期货所有日期的数据，因此临时爬取这部分数据，数据爬取后放到blanklist中"
   ]
  },
  {
   "cell_type": "code",
   "execution_count": 4,
   "metadata": {},
   "outputs": [
    {
     "name": "stderr",
     "output_type": "stream",
     "text": [
      "100%|██████████| 300/300 [01:08<00:00,  4.40it/s]\n"
     ]
    }
   ],
   "source": [
    "import requests\n",
    "import os\n",
    "import datetime\n",
    "import pandas as pd\n",
    "from bs4 import BeautifulSoup\n",
    "blanklist = []\n",
    "from tqdm import trange\n",
    "for p in trange(allpage):\n",
    "    # print(f'page:{p}')\n",
    "    page_url = f'https://vip.stock.finance.sina.com.cn/q/view/vFutures_History.php?page='+str(p)+'&breed='+code+'&type=inner&start='+start+'&end='+end\n",
    "    # print(page_url)\n",
    "    r = requests.get(page_url)\n",
    "    soup = BeautifulSoup(r.text.encode('utf8'), 'html.parser')\n",
    "    table = soup.find_all(\"div\", class_=\"historyList\")\n",
    "    table = BeautifulSoup(table[0].prettify().encode('utf8'), 'html.parser')\n",
    "    a = pd.read_html(table.prettify())\n",
    "\n",
    "\n",
    "    for index,row in a[0].iterrows():\n",
    "        if index>1:\n",
    "            blanklist.append([row[0],float(row[1]),float(row[2]),float(row[3]),float(row[4]),int(row[5])])"
   ]
  },
  {
   "cell_type": "code",
   "execution_count": 19,
   "metadata": {},
   "outputs": [],
   "source": [
    "# 爬取的数据一共6列，日期，收盘，开盘，最高，最低，成交量\n",
    "df = pd.DataFrame(blanklist, columns =['date', 'close','open','high','low','deal'])\n",
    "df = df[df['close']>0.1]"
   ]
  },
  {
   "cell_type": "code",
   "execution_count": 6,
   "metadata": {},
   "outputs": [],
   "source": [
    "import plotly.express as px"
   ]
  },
  {
   "cell_type": "code",
   "execution_count": 7,
   "metadata": {},
   "outputs": [],
   "source": [
    "# KDJ\n",
    "# KDJ指标是一种基于随机指标（K值）、平滑指标（D值）和J值（相对于D值的3倍数）计算而来的技术指标。\n",
    "# KDJ指标通过测量收盘价与最高价和最低价之间的关系，来衡量价格的强势或弱势，并判断市场的超买超卖情况。\n",
    "# K = (C - L) / (H - L) × 100\n",
    "# D = MA(K, M)\n",
    "# J = 3 * D - 2 * K\n",
    "# 具体查看TT.py计算\n",
    "# params:\n",
    "# close,high,low,N,M1,M2"
   ]
  },
  {
   "cell_type": "code",
   "execution_count": 20,
   "metadata": {},
   "outputs": [],
   "source": [
    "k,d,j = KDJ(df.close,df.high,df.low)"
   ]
  },
  {
   "cell_type": "code",
   "execution_count": 21,
   "metadata": {},
   "outputs": [],
   "source": [
    "# MACD\n",
    "# DIF：简称快线，是快速移动平均线，即正负差，DIF值=快速平滑移动平均线（EMA1）— 慢速平滑移动平均线（EMA2）\n",
    "# DEA：简称慢线，是慢速移动平均线，也叫异同平均数，算法就是无数个DIF值的加权平均数\n",
    "# "
   ]
  },
  {
   "cell_type": "code",
   "execution_count": 22,
   "metadata": {},
   "outputs": [],
   "source": [
    "dif,dea,macd = MACD(df.close)"
   ]
  },
  {
   "cell_type": "code",
   "execution_count": 23,
   "metadata": {},
   "outputs": [],
   "source": [
    "# RSI"
   ]
  },
  {
   "cell_type": "code",
   "execution_count": 24,
   "metadata": {},
   "outputs": [],
   "source": [
    "rsi = RSI(df.close,24)"
   ]
  },
  {
   "cell_type": "code",
   "execution_count": 33,
   "metadata": {},
   "outputs": [],
   "source": [
    "l = [df.date,k,d,j,dif,dea,macd,rsi]\n",
    "indicators = pd.DataFrame(list(map(list, zip(*l))),columns =['date','k', 'd','j','dif','dea','macd','rsi'])"
   ]
  },
  {
   "cell_type": "code",
   "execution_count": 41,
   "metadata": {},
   "outputs": [
    {
     "data": {
      "application/vnd.plotly.v1+json": {
       "config": {
        "plotlyServerURL": "https://plot.ly"
       },
       "data": [
        {
         "legendgroup": "",
         "line": {
          "color": "#636efa",
          "dash": "solid"
         },
         "marker": {
          "symbol": "circle"
         },
         "mode": "markers+lines",
         "name": "",
         "orientation": "v",
         "showlegend": false,
         "type": "scatter",
         "x": [
          "2023-09-13",
          "2023-09-12",
          "2023-09-11",
          "2023-09-08",
          "2023-09-07",
          "2023-09-06",
          "2023-09-05",
          "2023-09-04",
          "2023-09-01",
          "2023-08-31",
          "2023-08-30",
          "2023-08-29",
          "2023-08-28",
          "2023-08-25",
          "2023-08-24",
          "2023-08-23",
          "2023-08-22",
          "2023-08-21",
          "2023-08-18",
          "2023-08-17",
          "2023-08-16",
          "2023-08-15",
          "2023-08-14",
          "2023-08-11",
          "2023-08-10",
          "2023-08-09",
          "2023-08-08",
          "2023-08-07",
          "2023-08-04",
          "2023-08-03",
          "2023-08-02",
          "2023-08-01",
          "2023-07-31",
          "2023-07-28",
          "2023-07-27",
          "2023-07-26",
          "2023-07-25",
          "2023-07-24",
          "2023-07-21",
          "2023-07-19",
          "2023-07-18",
          "2023-07-17",
          "2023-07-14",
          "2023-07-13",
          "2023-07-12",
          "2023-07-11",
          "2023-07-10",
          "2023-07-07",
          "2023-07-06",
          "2023-07-05",
          "2023-07-04",
          "2023-07-03",
          "2023-06-30",
          "2023-06-20",
          "2023-06-14",
          "2023-06-13",
          "2023-06-12",
          "2023-06-09",
          "2023-06-08",
          "2023-06-06",
          "2023-06-02",
          "2023-06-01",
          "2023-05-31",
          "2023-05-29",
          "2023-05-26",
          "2023-05-25",
          "2023-05-23",
          "2023-05-22",
          "2023-05-19",
          "2023-05-18",
          "2023-05-17",
          "2023-05-16",
          "2023-05-15",
          "2023-05-11",
          "2023-05-10",
          "2023-05-09",
          "2023-05-08",
          "2023-05-05",
          "2023-04-28",
          "2023-04-27",
          "2023-04-26",
          "2023-04-25",
          "2023-04-24",
          "2023-04-21",
          "2023-04-20",
          "2023-04-19",
          "2023-04-18",
          "2023-04-17",
          "2023-04-14",
          "2023-04-13",
          "2023-04-12",
          "2023-04-10",
          "2023-04-04",
          "2023-04-03",
          "2023-03-31",
          "2023-03-29",
          "2023-03-27",
          "2023-03-24",
          "2023-03-23",
          "2023-03-22",
          "2023-03-17",
          "2023-03-09",
          "2023-03-08",
          "2023-03-07",
          "2023-03-06",
          "2023-02-28",
          "2023-02-27",
          "2023-02-23",
          "2023-02-21",
          "2023-02-20",
          "2023-02-08",
          "2023-02-07",
          "2023-02-06",
          "2023-02-03",
          "2023-02-02",
          "2023-02-01",
          "2023-01-30",
          "2023-01-12",
          "2023-01-11",
          "2023-01-09",
          "2023-01-06",
          "2023-01-05",
          "2023-01-04",
          "2022-12-29",
          "2022-12-19",
          "2022-12-15",
          "2022-12-12",
          "2022-12-09",
          "2022-12-08",
          "2022-12-07",
          "2022-12-06",
          "2022-12-05",
          "2022-12-02",
          "2022-12-01",
          "2022-11-30",
          "2022-11-29",
          "2022-11-18",
          "2022-11-16",
          "2022-11-07"
         ],
         "xaxis": "x",
         "y": [
          0,
          2.489,
          1.679,
          -10.286,
          -9.956,
          -6.575,
          -3.932,
          -4.178,
          -7.234,
          -16.98,
          -20.861,
          -26.558,
          -25.121,
          -18.975,
          -15.709,
          -5.002,
          0.183,
          -2.578,
          -8.063,
          -8.184,
          -11.045,
          -9.386,
          -10.893,
          -4.646,
          -3.874,
          2.178,
          2.218,
          4.482,
          5.33,
          4.214,
          18.699,
          29.015,
          25.899,
          25.19,
          24.694,
          27.555,
          20.948,
          12.28,
          5.68,
          2.371,
          -0.241,
          -12.552,
          -12.91,
          -16.96,
          -19.243,
          -22.171,
          -31.808,
          -36.202,
          -31.126,
          -31.476,
          -29.65,
          -22.851,
          -14.068,
          -5.235,
          -3.907,
          -3.834,
          -7.859,
          -8.482,
          -9.728,
          -7.831,
          -11.64,
          -22.245,
          -25.974,
          -24.882,
          -17.451,
          -3.142,
          15.884,
          28.984,
          43.104,
          59.961,
          71.834,
          65.054,
          57.193,
          39.299,
          33.962,
          26.551,
          29.081,
          14.859,
          18.355,
          22.712,
          22.606,
          24.889,
          25.941,
          30.765,
          35.206,
          41.774,
          43.109,
          32.445,
          25.848,
          21.004,
          17.464,
          13.801,
          23.944,
          33.474,
          43.449,
          41.273,
          38.075,
          34.764,
          29.307,
          20.874,
          22.392,
          27.911,
          32.522,
          32.483,
          32.648,
          19.711,
          18.15,
          14.761,
          -1.883,
          -15.11,
          -34.336,
          -50.047,
          -61.277,
          -66.864,
          -65.661,
          -55.456,
          -38.04,
          -32.629,
          -34.505,
          -37.709,
          -49.659,
          -55.95,
          -61.427,
          -51.799,
          -39.919,
          -7.376,
          5.67,
          9.116,
          -1.122,
          -10.401,
          -17.099,
          -16.621,
          -22.864,
          -30.643,
          -38.844,
          -35.813,
          -44.135,
          -72.12,
          -56.807
         ],
         "yaxis": "y"
        }
       ],
       "layout": {
        "hovermode": "x unified",
        "legend": {
         "tracegroupgap": 0
        },
        "template": {
         "data": {
          "bar": [
           {
            "error_x": {
             "color": "#2a3f5f"
            },
            "error_y": {
             "color": "#2a3f5f"
            },
            "marker": {
             "line": {
              "color": "#E5ECF6",
              "width": 0.5
             },
             "pattern": {
              "fillmode": "overlay",
              "size": 10,
              "solidity": 0.2
             }
            },
            "type": "bar"
           }
          ],
          "barpolar": [
           {
            "marker": {
             "line": {
              "color": "#E5ECF6",
              "width": 0.5
             },
             "pattern": {
              "fillmode": "overlay",
              "size": 10,
              "solidity": 0.2
             }
            },
            "type": "barpolar"
           }
          ],
          "carpet": [
           {
            "aaxis": {
             "endlinecolor": "#2a3f5f",
             "gridcolor": "white",
             "linecolor": "white",
             "minorgridcolor": "white",
             "startlinecolor": "#2a3f5f"
            },
            "baxis": {
             "endlinecolor": "#2a3f5f",
             "gridcolor": "white",
             "linecolor": "white",
             "minorgridcolor": "white",
             "startlinecolor": "#2a3f5f"
            },
            "type": "carpet"
           }
          ],
          "choropleth": [
           {
            "colorbar": {
             "outlinewidth": 0,
             "ticks": ""
            },
            "type": "choropleth"
           }
          ],
          "contour": [
           {
            "colorbar": {
             "outlinewidth": 0,
             "ticks": ""
            },
            "colorscale": [
             [
              0,
              "#0d0887"
             ],
             [
              0.1111111111111111,
              "#46039f"
             ],
             [
              0.2222222222222222,
              "#7201a8"
             ],
             [
              0.3333333333333333,
              "#9c179e"
             ],
             [
              0.4444444444444444,
              "#bd3786"
             ],
             [
              0.5555555555555556,
              "#d8576b"
             ],
             [
              0.6666666666666666,
              "#ed7953"
             ],
             [
              0.7777777777777778,
              "#fb9f3a"
             ],
             [
              0.8888888888888888,
              "#fdca26"
             ],
             [
              1,
              "#f0f921"
             ]
            ],
            "type": "contour"
           }
          ],
          "contourcarpet": [
           {
            "colorbar": {
             "outlinewidth": 0,
             "ticks": ""
            },
            "type": "contourcarpet"
           }
          ],
          "heatmap": [
           {
            "colorbar": {
             "outlinewidth": 0,
             "ticks": ""
            },
            "colorscale": [
             [
              0,
              "#0d0887"
             ],
             [
              0.1111111111111111,
              "#46039f"
             ],
             [
              0.2222222222222222,
              "#7201a8"
             ],
             [
              0.3333333333333333,
              "#9c179e"
             ],
             [
              0.4444444444444444,
              "#bd3786"
             ],
             [
              0.5555555555555556,
              "#d8576b"
             ],
             [
              0.6666666666666666,
              "#ed7953"
             ],
             [
              0.7777777777777778,
              "#fb9f3a"
             ],
             [
              0.8888888888888888,
              "#fdca26"
             ],
             [
              1,
              "#f0f921"
             ]
            ],
            "type": "heatmap"
           }
          ],
          "heatmapgl": [
           {
            "colorbar": {
             "outlinewidth": 0,
             "ticks": ""
            },
            "colorscale": [
             [
              0,
              "#0d0887"
             ],
             [
              0.1111111111111111,
              "#46039f"
             ],
             [
              0.2222222222222222,
              "#7201a8"
             ],
             [
              0.3333333333333333,
              "#9c179e"
             ],
             [
              0.4444444444444444,
              "#bd3786"
             ],
             [
              0.5555555555555556,
              "#d8576b"
             ],
             [
              0.6666666666666666,
              "#ed7953"
             ],
             [
              0.7777777777777778,
              "#fb9f3a"
             ],
             [
              0.8888888888888888,
              "#fdca26"
             ],
             [
              1,
              "#f0f921"
             ]
            ],
            "type": "heatmapgl"
           }
          ],
          "histogram": [
           {
            "marker": {
             "pattern": {
              "fillmode": "overlay",
              "size": 10,
              "solidity": 0.2
             }
            },
            "type": "histogram"
           }
          ],
          "histogram2d": [
           {
            "colorbar": {
             "outlinewidth": 0,
             "ticks": ""
            },
            "colorscale": [
             [
              0,
              "#0d0887"
             ],
             [
              0.1111111111111111,
              "#46039f"
             ],
             [
              0.2222222222222222,
              "#7201a8"
             ],
             [
              0.3333333333333333,
              "#9c179e"
             ],
             [
              0.4444444444444444,
              "#bd3786"
             ],
             [
              0.5555555555555556,
              "#d8576b"
             ],
             [
              0.6666666666666666,
              "#ed7953"
             ],
             [
              0.7777777777777778,
              "#fb9f3a"
             ],
             [
              0.8888888888888888,
              "#fdca26"
             ],
             [
              1,
              "#f0f921"
             ]
            ],
            "type": "histogram2d"
           }
          ],
          "histogram2dcontour": [
           {
            "colorbar": {
             "outlinewidth": 0,
             "ticks": ""
            },
            "colorscale": [
             [
              0,
              "#0d0887"
             ],
             [
              0.1111111111111111,
              "#46039f"
             ],
             [
              0.2222222222222222,
              "#7201a8"
             ],
             [
              0.3333333333333333,
              "#9c179e"
             ],
             [
              0.4444444444444444,
              "#bd3786"
             ],
             [
              0.5555555555555556,
              "#d8576b"
             ],
             [
              0.6666666666666666,
              "#ed7953"
             ],
             [
              0.7777777777777778,
              "#fb9f3a"
             ],
             [
              0.8888888888888888,
              "#fdca26"
             ],
             [
              1,
              "#f0f921"
             ]
            ],
            "type": "histogram2dcontour"
           }
          ],
          "mesh3d": [
           {
            "colorbar": {
             "outlinewidth": 0,
             "ticks": ""
            },
            "type": "mesh3d"
           }
          ],
          "parcoords": [
           {
            "line": {
             "colorbar": {
              "outlinewidth": 0,
              "ticks": ""
             }
            },
            "type": "parcoords"
           }
          ],
          "pie": [
           {
            "automargin": true,
            "type": "pie"
           }
          ],
          "scatter": [
           {
            "fillpattern": {
             "fillmode": "overlay",
             "size": 10,
             "solidity": 0.2
            },
            "type": "scatter"
           }
          ],
          "scatter3d": [
           {
            "line": {
             "colorbar": {
              "outlinewidth": 0,
              "ticks": ""
             }
            },
            "marker": {
             "colorbar": {
              "outlinewidth": 0,
              "ticks": ""
             }
            },
            "type": "scatter3d"
           }
          ],
          "scattercarpet": [
           {
            "marker": {
             "colorbar": {
              "outlinewidth": 0,
              "ticks": ""
             }
            },
            "type": "scattercarpet"
           }
          ],
          "scattergeo": [
           {
            "marker": {
             "colorbar": {
              "outlinewidth": 0,
              "ticks": ""
             }
            },
            "type": "scattergeo"
           }
          ],
          "scattergl": [
           {
            "marker": {
             "colorbar": {
              "outlinewidth": 0,
              "ticks": ""
             }
            },
            "type": "scattergl"
           }
          ],
          "scattermapbox": [
           {
            "marker": {
             "colorbar": {
              "outlinewidth": 0,
              "ticks": ""
             }
            },
            "type": "scattermapbox"
           }
          ],
          "scatterpolar": [
           {
            "marker": {
             "colorbar": {
              "outlinewidth": 0,
              "ticks": ""
             }
            },
            "type": "scatterpolar"
           }
          ],
          "scatterpolargl": [
           {
            "marker": {
             "colorbar": {
              "outlinewidth": 0,
              "ticks": ""
             }
            },
            "type": "scatterpolargl"
           }
          ],
          "scatterternary": [
           {
            "marker": {
             "colorbar": {
              "outlinewidth": 0,
              "ticks": ""
             }
            },
            "type": "scatterternary"
           }
          ],
          "surface": [
           {
            "colorbar": {
             "outlinewidth": 0,
             "ticks": ""
            },
            "colorscale": [
             [
              0,
              "#0d0887"
             ],
             [
              0.1111111111111111,
              "#46039f"
             ],
             [
              0.2222222222222222,
              "#7201a8"
             ],
             [
              0.3333333333333333,
              "#9c179e"
             ],
             [
              0.4444444444444444,
              "#bd3786"
             ],
             [
              0.5555555555555556,
              "#d8576b"
             ],
             [
              0.6666666666666666,
              "#ed7953"
             ],
             [
              0.7777777777777778,
              "#fb9f3a"
             ],
             [
              0.8888888888888888,
              "#fdca26"
             ],
             [
              1,
              "#f0f921"
             ]
            ],
            "type": "surface"
           }
          ],
          "table": [
           {
            "cells": {
             "fill": {
              "color": "#EBF0F8"
             },
             "line": {
              "color": "white"
             }
            },
            "header": {
             "fill": {
              "color": "#C8D4E3"
             },
             "line": {
              "color": "white"
             }
            },
            "type": "table"
           }
          ]
         },
         "layout": {
          "annotationdefaults": {
           "arrowcolor": "#2a3f5f",
           "arrowhead": 0,
           "arrowwidth": 1
          },
          "autotypenumbers": "strict",
          "coloraxis": {
           "colorbar": {
            "outlinewidth": 0,
            "ticks": ""
           }
          },
          "colorscale": {
           "diverging": [
            [
             0,
             "#8e0152"
            ],
            [
             0.1,
             "#c51b7d"
            ],
            [
             0.2,
             "#de77ae"
            ],
            [
             0.3,
             "#f1b6da"
            ],
            [
             0.4,
             "#fde0ef"
            ],
            [
             0.5,
             "#f7f7f7"
            ],
            [
             0.6,
             "#e6f5d0"
            ],
            [
             0.7,
             "#b8e186"
            ],
            [
             0.8,
             "#7fbc41"
            ],
            [
             0.9,
             "#4d9221"
            ],
            [
             1,
             "#276419"
            ]
           ],
           "sequential": [
            [
             0,
             "#0d0887"
            ],
            [
             0.1111111111111111,
             "#46039f"
            ],
            [
             0.2222222222222222,
             "#7201a8"
            ],
            [
             0.3333333333333333,
             "#9c179e"
            ],
            [
             0.4444444444444444,
             "#bd3786"
            ],
            [
             0.5555555555555556,
             "#d8576b"
            ],
            [
             0.6666666666666666,
             "#ed7953"
            ],
            [
             0.7777777777777778,
             "#fb9f3a"
            ],
            [
             0.8888888888888888,
             "#fdca26"
            ],
            [
             1,
             "#f0f921"
            ]
           ],
           "sequentialminus": [
            [
             0,
             "#0d0887"
            ],
            [
             0.1111111111111111,
             "#46039f"
            ],
            [
             0.2222222222222222,
             "#7201a8"
            ],
            [
             0.3333333333333333,
             "#9c179e"
            ],
            [
             0.4444444444444444,
             "#bd3786"
            ],
            [
             0.5555555555555556,
             "#d8576b"
            ],
            [
             0.6666666666666666,
             "#ed7953"
            ],
            [
             0.7777777777777778,
             "#fb9f3a"
            ],
            [
             0.8888888888888888,
             "#fdca26"
            ],
            [
             1,
             "#f0f921"
            ]
           ]
          },
          "colorway": [
           "#636efa",
           "#EF553B",
           "#00cc96",
           "#ab63fa",
           "#FFA15A",
           "#19d3f3",
           "#FF6692",
           "#B6E880",
           "#FF97FF",
           "#FECB52"
          ],
          "font": {
           "color": "#2a3f5f"
          },
          "geo": {
           "bgcolor": "white",
           "lakecolor": "white",
           "landcolor": "#E5ECF6",
           "showlakes": true,
           "showland": true,
           "subunitcolor": "white"
          },
          "hoverlabel": {
           "align": "left"
          },
          "hovermode": "closest",
          "mapbox": {
           "style": "light"
          },
          "paper_bgcolor": "white",
          "plot_bgcolor": "#E5ECF6",
          "polar": {
           "angularaxis": {
            "gridcolor": "white",
            "linecolor": "white",
            "ticks": ""
           },
           "bgcolor": "#E5ECF6",
           "radialaxis": {
            "gridcolor": "white",
            "linecolor": "white",
            "ticks": ""
           }
          },
          "scene": {
           "xaxis": {
            "backgroundcolor": "#E5ECF6",
            "gridcolor": "white",
            "gridwidth": 2,
            "linecolor": "white",
            "showbackground": true,
            "ticks": "",
            "zerolinecolor": "white"
           },
           "yaxis": {
            "backgroundcolor": "#E5ECF6",
            "gridcolor": "white",
            "gridwidth": 2,
            "linecolor": "white",
            "showbackground": true,
            "ticks": "",
            "zerolinecolor": "white"
           },
           "zaxis": {
            "backgroundcolor": "#E5ECF6",
            "gridcolor": "white",
            "gridwidth": 2,
            "linecolor": "white",
            "showbackground": true,
            "ticks": "",
            "zerolinecolor": "white"
           }
          },
          "shapedefaults": {
           "line": {
            "color": "#2a3f5f"
           }
          },
          "ternary": {
           "aaxis": {
            "gridcolor": "white",
            "linecolor": "white",
            "ticks": ""
           },
           "baxis": {
            "gridcolor": "white",
            "linecolor": "white",
            "ticks": ""
           },
           "bgcolor": "#E5ECF6",
           "caxis": {
            "gridcolor": "white",
            "linecolor": "white",
            "ticks": ""
           }
          },
          "title": {
           "x": 0.05
          },
          "xaxis": {
           "automargin": true,
           "gridcolor": "white",
           "linecolor": "white",
           "ticks": "",
           "title": {
            "standoff": 15
           },
           "zerolinecolor": "white",
           "zerolinewidth": 2
          },
          "yaxis": {
           "automargin": true,
           "gridcolor": "white",
           "linecolor": "white",
           "ticks": "",
           "title": {
            "standoff": 15
           },
           "zerolinecolor": "white",
           "zerolinewidth": 2
          }
         }
        },
        "title": {
         "text": "low price"
        },
        "xaxis": {
         "anchor": "y",
         "domain": [
          0,
          1
         ],
         "title": {
          "text": "date"
         }
        },
        "yaxis": {
         "anchor": "x",
         "domain": [
          0,
          1
         ],
         "title": {
          "text": "macd"
         }
        }
       }
      }
     },
     "metadata": {},
     "output_type": "display_data"
    }
   ],
   "source": [
    "# df = px.data.gapminder().query(\"continent=='Oceania'\")\n",
    "\n",
    "fig = px.line(indicators, x=\"date\", y=\"macd\",  title=\"low price\")\n",
    "fig.update_traces(mode=\"markers+lines\", hovertemplate=None)\n",
    "fig.update_layout(hovermode=\"x unified\")\n",
    "\n",
    "fig.show()"
   ]
  },
  {
   "cell_type": "code",
   "execution_count": null,
   "metadata": {},
   "outputs": [],
   "source": []
  },
  {
   "cell_type": "code",
   "execution_count": null,
   "metadata": {},
   "outputs": [],
   "source": []
  }
 ],
 "metadata": {
  "kernelspec": {
   "display_name": ".venv",
   "language": "python",
   "name": "python3"
  },
  "language_info": {
   "codemirror_mode": {
    "name": "ipython",
    "version": 3
   },
   "file_extension": ".py",
   "mimetype": "text/x-python",
   "name": "python",
   "nbconvert_exporter": "python",
   "pygments_lexer": "ipython3",
   "version": "3.8.10"
  },
  "orig_nbformat": 4
 },
 "nbformat": 4,
 "nbformat_minor": 2
}
