{
 "cells": [
  {
   "cell_type": "code",
   "execution_count": 1,
   "metadata": {},
   "outputs": [],
   "source": [
    "import plotly\n",
    "from algo import *\n",
    "import pandas as pd"
   ]
  },
  {
   "cell_type": "code",
   "execution_count": 2,
   "metadata": {},
   "outputs": [],
   "source": [
    "import datetime"
   ]
  },
  {
   "cell_type": "code",
   "execution_count": 3,
   "metadata": {},
   "outputs": [],
   "source": [
    "def change_HMS(t=0):\n",
    "    '''change int to h-m-s format \n",
    "    '''\n",
    "    if t < 0 or t > 999999:\n",
    "        return None, None, None\n",
    "    \n",
    "    h, m, s= int(t/10000), int(t%10000/100), int(t%100)\n",
    "\n",
    "    return datetime.time(h, m, s)"
   ]
  },
  {
   "cell_type": "code",
   "execution_count": 4,
   "metadata": {},
   "outputs": [],
   "source": [
    "def change_to_HMS(t=''):\n",
    "    '''change time format to int\n",
    "    '''\n",
    "    return int(str(int(t.hour))+\"{:02d}\".format(int(t.minute))+\"{:02d}\".format((int(t.second))))\n"
   ]
  },
  {
   "cell_type": "code",
   "execution_count": 5,
   "metadata": {},
   "outputs": [],
   "source": [
    "def check_cross(line1, line2, m = 5):\n",
    "\tif len(line1) < m or len(line2) < m:\n",
    "\t\traise ValueError(f\"Both line1 and line2 should have at least {m} values.\")\n",
    "\n",
    "\tfor i in range(len(line1) - m + 1):\n",
    "\t\tsubset_1 = line1[i:i+m]\n",
    "\t\tsubset_2 = line2[i:i+m]\n",
    "\n",
    "\t\t# 查找初始金叉\n",
    "\t\tif subset_1[0] < subset_2[0] and subset_1[1] > subset_2[1]:\n",
    "\t\t\ttrend = \"gold\"\n",
    "\t\t\t# 检查是否K始终大于D\n",
    "\t\t\tif all(k > d for k, d in zip(subset_1[1:], subset_2[1:])):\n",
    "\t\t\t\treturn i+1, trend\n",
    "\n",
    "\t\t# 查找初始死叉\n",
    "\t\telif subset_1[0] > subset_2[0] and subset_1[1] < subset_2[1]:\n",
    "\t\t\ttrend = \"dead\"\n",
    "\t\t\t# 检查是否K始终小于D\n",
    "\t\t\tif all(k < d for k, d in zip(subset_1[1:], subset_2[1:])):\n",
    "\t\t\t\treturn i+1, trend\n",
    "\n",
    "\treturn None, None\n"
   ]
  },
  {
   "cell_type": "code",
   "execution_count": 6,
   "metadata": {},
   "outputs": [],
   "source": [
    "def get_main_future_codes(end_date_string, threshold = 0.05):\n",
    "\n",
    "\tend_date = datetime.datetime.strptime(end_date_string, \"%Y-%m-%d\")\n",
    "\tend_date_ahead = end_date - timedelta(days=1)\n",
    "\tend_date_ahead_string = end_date_ahead.strftime('%Y-%m-%d')  # 格式为 YYYY-MM-DD\n",
    "\n",
    "\tif is_valid_date(end_date_string):\n",
    "\n",
    "\t\t\"\"\"\n",
    "\t\t\tC1: 正基差过滤\n",
    "\t\t\"\"\"\n",
    "\t\tt1 = time.time()\n",
    "\t\t# get namelist by basis of percentage\n",
    "\t\tprint(end_date_ahead_string)\n",
    "\t\tbasis_future = pd.DataFrame([i for i in DCE_commodity_price_collection.find(\n",
    "\t\t\t\t\t\t# {\"date\": end_date_string}\n",
    "\t\t\t\t\t\t{\"date\": end_date_ahead_string}\n",
    "\t\t\t\t\t).sort(\"main_future_code\", pymongo.ASCENDING) ])\n",
    "\t\t# print(basis_future)\n",
    "\t\t# print(basis_future)\n",
    "\t\tbasis_future = basis_future.sort_values(by='main_cf_basis_percent', ascending=False)\n",
    "\n",
    "\t\tt2 = time.time()\n",
    "\n",
    "\t\t# Find the main contract with +5% positive basis \n",
    "\t\tcodes = basis_future[basis_future[\"main_cf_basis_percent\"]>=threshold][\"main_future_code\"].tolist()\n",
    "\t\tcodes = list(set(codes))\n",
    "\t\treturn codes"
   ]
  },
  {
   "cell_type": "code",
   "execution_count": 7,
   "metadata": {},
   "outputs": [
    {
     "name": "stdout",
     "output_type": "stream",
     "text": [
      "2023-09-12\n",
      "['CS2311', 'FU2401', 'CY2401', 'C2311', 'RS2311', 'M2401', 'SA2401', 'I2401', 'SR2401', 'Y2401', 'LC2401', 'UR2401', 'RM2401']\n"
     ]
    }
   ],
   "source": [
    "main_future_codes = get_main_future_codes('2023-09-13')\n",
    "print(main_future_codes)"
   ]
  },
  {
   "cell_type": "code",
   "execution_count": 224,
   "metadata": {},
   "outputs": [],
   "source": [
    "def get_main_future_price_period(codes,tt=[]):\n",
    "    pass"
   ]
  },
  {
   "cell_type": "code",
   "execution_count": 8,
   "metadata": {},
   "outputs": [],
   "source": [
    "import pprint\n",
    "def get_realtime_price(date, tt, codelist=[]):\n",
    "    realtime_prices_df = pd.DataFrame()\n",
    "    # print(codelist)\n",
    "    for code in codelist:\n",
    "        cur_realtime_prices = DCE_future_price_collection.find(\n",
    "            {\"$and\":[\n",
    "                {'date':date},\n",
    "                {'clock':{\"$lt\":tt}},\n",
    "                {'future_code':code}]}\n",
    "            ).sort(\"clock\", pymongo.DESCENDING).limit(1)\n",
    "        cur_df = pd.DataFrame(list(cur_realtime_prices))\n",
    "        # print(f'xxxxx')\n",
    "        # pprint.pprint(cur_df.loc[0,:])\n",
    "        # print(f'xxxxx')\n",
    "        realtime_prices_df = pd.concat([realtime_prices_df, cur_df], ignore_index=True)\n",
    "\n",
    "    return realtime_prices_df"
   ]
  },
  {
   "cell_type": "code",
   "execution_count": 9,
   "metadata": {},
   "outputs": [],
   "source": [
    "def quick_cursor(code, end_date_string,df, min_count = 1500, retry = 1):\n",
    "\tif retry >0 and len(df) < min_count:\n",
    "\t\tt1 = time.time()\n",
    "\n",
    "\t\tminutes_cursors = DCE_future_price_collection.find(\n",
    "\t\t\t\t\t\t{\"$and\":[\n",
    "\t\t\t\t\t\t\t{'date':end_date_string},\n",
    "\t\t\t\t\t\t\t{'future_code': code}]}\n",
    "\t\t\t\t\t\t).sort(\"clock\", pymongo.DESCENDING)\n",
    "\n",
    "\t\tcur_df = pd.DataFrame(list(minutes_cursors))\n",
    "\t\tt2 = time.time()\n",
    "\n",
    "\t\tif len(cur_df)> 0:\n",
    "\t\t\tdf = pd.concat([df, cur_df], ignore_index=True)\n",
    "\t\tt3 = time.time()\n",
    "\t\t# print(\"===================== retry: \", retry)\n",
    "\t\t# print(f\"====代码运行时间: {t2 - t1} 秒\")\n",
    "\t\t# print(f\"====代码运行时间: {t3 - t2} 秒\")\n",
    "\t\t# print(\"====\",len(df),\"=====\")\n",
    "\n",
    "\t\tprev_date_string = get_previous_date(end_date_string, period=1)\n",
    "\t\treturn quick_cursor(code, prev_date_string, df, retry=retry-1)\n",
    "\telse:\n",
    "\t\treturn df"
   ]
  },
  {
   "cell_type": "code",
   "execution_count": 10,
   "metadata": {},
   "outputs": [],
   "source": [
    "\n",
    "def get_minutes_info(codes, end_date_string, min_count = 1500):\n",
    "\tminutes_df = pd.DataFrame()\n",
    "\n",
    "\t# DCE_future_price_collection.create_index([(\"date\", pymongo.DESCENDING),(\"clock\", pymongo.DESCENDING)])\n",
    "\tprint(codes)\n",
    "\tfor code in codes:\n",
    "\t\tprint(\"cur code: \",code)\n",
    "\t\tcur_df = pd.DataFrame()\n",
    "\t\t# cur_df = quick_cursor2(code, end_date_string)\n",
    "\t\tcur_df = quick_cursor(code, end_date_string, cur_df, min_count = min_count, retry=5)\n",
    "\n",
    "\t\tif len(cur_df)>= min_count:\n",
    "\t\t\tt1= time.time()\n",
    "\t\t\tcur_df = cur_df.sort_values(by=['date','clock'], ascending=True)\n",
    "\t\t\tminutes_df = pd.concat([minutes_df, cur_df], ignore_index=True)\n",
    "\t\t\tt2 = time.time()\n",
    "\t\t\t# print(f\"==*********==代码运行时间: {t2 - t1} 秒\")\n",
    "\t\n",
    "\treturn minutes_df"
   ]
  },
  {
   "cell_type": "code",
   "execution_count": 11,
   "metadata": {},
   "outputs": [],
   "source": [
    "def check_upper_ma(prices, realtime_prices, period, if_minute = False):\n",
    "\tunique_codes = prices['future_code'].unique()\n",
    "\tnewest_prices = realtime_prices[[\"future_code\", \"newest_price\"]]\n",
    "\tma_selected_code = []\n",
    "\tfor code in unique_codes:\n",
    "\t\tsub_df = prices[prices['future_code'] == code]\n",
    "\t\tif if_minute:\n",
    "\t\t\tclose_prices = sub_df[\"newest_price\"]\n",
    "\t\telse:\n",
    "\t\t\tclose_prices = sub_df[\"close\"]\n",
    "\t\t# print(close_prices)\n",
    "\t\tma_value = TT.MA(close_prices, period)[-1]\n",
    "\n",
    "\t\ttemp = newest_prices.loc[newest_prices[\"future_code\"] == code,\"newest_price\"]\n",
    "\t\tif len(temp) >0:\n",
    "\t\t\tif ma_value < temp.item():\n",
    "\t\t\t\tma_selected_code.append(code)\t\n",
    "\n",
    "\treturn ma_selected_code"
   ]
  },
  {
   "cell_type": "code",
   "execution_count": 12,
   "metadata": {},
   "outputs": [],
   "source": [
    "def check_daily_kdj(daily_prices, codes, tor = 1):\n",
    "\tselected_code = []\n",
    "\tfor code in codes:\n",
    "\t\tsub_df = daily_prices[daily_prices[\"future_code\"] == code]\n",
    "\t\tclose, high, low = sub_df['close'], sub_df['high'], sub_df['low']\n",
    "\t\tK, D, J = KDJ(close, high, low)\n",
    "\n",
    "\t\t# print(\"=================\")\n",
    "\t\t# print(K)\n",
    "\t\t# print(D)\n",
    "\t\tif len(K) >= tor and len(D) >= tor:\n",
    "\t\t\t_, res = check_cross(K, D)\n",
    "\n",
    "\t\t\tif res == \"gold\":\n",
    "\t\t\t\tselected_code.append(code)\n",
    "\n",
    "\treturn selected_code"
   ]
  },
  {
   "cell_type": "code",
   "execution_count": 13,
   "metadata": {},
   "outputs": [],
   "source": [
    "def check_hourly_kdj(daily_prices, codes, tor = 2):\n",
    "\t\n",
    "\tdaily_prices['hour'] = daily_prices['clock'] // 10000  # 将 230000 转换为 23，210000 转换为 21 等\n",
    "\n",
    "\t# 根据 future_code 和每小时进行分组，并聚合\n",
    "\thourly_prices = daily_prices.groupby(['future_code', 'date', 'hour']).agg({\n",
    "\t\t'newest_price': ['last', 'max', 'min'],\n",
    "\t\t'future_code': 'first',\n",
    "\t\t'date': 'first',\n",
    "\t\t'clock': 'last'\n",
    "\t}).reset_index()\n",
    "\n",
    "\t# 调整列名\n",
    "\thourly_prices.columns = ['future_code', 'date', 'hour', 'close', 'high', 'low', 'future_code_', 'date_', 'clock_']\n",
    "\thourly_prices = hourly_prices[['future_code', 'date', 'clock_', 'close', 'high', 'low']]\n",
    "\thourly_prices.columns = ['future_code', 'date', 'clock', 'close', 'high', 'low']\n",
    "\n",
    "\thourly_prices = hourly_prices.sort_values(by=[\"future_code\",\"date\",\"clock\"], ascending=[True, True, True])\n",
    "\t# hourly_prices.to_csv(\"./hourly_df.csv\", index=False, encoding=\"gbk\")\t\n",
    "\n",
    "\tselected_code = []\n",
    "\tfor code in codes:\n",
    "\t\tsub_df = hourly_prices[hourly_prices[\"future_code\"] == code]\n",
    "\t\tclose, high, low = sub_df['close'], sub_df['high'], sub_df['low']\n",
    "\t\tK, D, J = KDJ(close, high, low)\n",
    "\n",
    "\t\tif len(K) >= tor and len(D) >= tor:\n",
    "\t\t\t_, res = check_cross(K, D)\n",
    "\n",
    "\t\t\tif res == \"gold\":\n",
    "\t\t\t\tselected_code.append(code)\n",
    "\n",
    "\treturn selected_code"
   ]
  },
  {
   "cell_type": "code",
   "execution_count": 14,
   "metadata": {},
   "outputs": [],
   "source": [
    "\n",
    "\"\"\"\n",
    "\tHere, 'end_date_string' typically represents today. \n",
    "\tHowever, 'end_date' should be adjusted to be one day ahead ('end_date_ahead') for easier calculations, \n",
    "\tespecially when computing indicators such as MA and KDJ.\n",
    "\"\"\"\n",
    "def get_name_list(end_date_string, tt, period = 20, period_minute = 20, threshold = 0.05):\n",
    "\tend_date = datetime.datetime.strptime(end_date_string, \"%Y-%m-%d\")\n",
    "\tend_date_ahead = end_date - datetime.timedelta(days=1)\n",
    "\tend_date_ahead_string = end_date_ahead.strftime('%Y-%m-%d')  # 格式为 YYYY-MM-DD\n",
    "\n",
    "\tif is_valid_date(end_date_string):\n",
    "\n",
    "\t\t\"\"\"\n",
    "\t\t\tC1: 正基差过滤\n",
    "\t\t\"\"\"\n",
    "\t\tt1 = time.time()\n",
    "\t\t# get namelist by basis of percentage\n",
    "\t\tprint(end_date_ahead_string)\n",
    "\t\tbasis_future = pd.DataFrame([i for i in DCE_commodity_price_collection.find(\n",
    "\t\t\t\t\t\t# {\"date\": end_date_string}\n",
    "\t\t\t\t\t\t{\"date\": end_date_ahead_string}\n",
    "\t\t\t\t\t).sort(\"main_future_code\", pymongo.ASCENDING) ])\n",
    "\t\t# print(basis_future)\n",
    "\t\t# print(basis_future)\n",
    "\t\tbasis_future = basis_future.sort_values(by='main_cf_basis_percent', ascending=False)\n",
    "\n",
    "\t\tt2 = time.time()\n",
    "\n",
    "\t\t# Find the main contract with +5% positive basis \n",
    "\t\tcodes = basis_future[basis_future[\"main_cf_basis_percent\"]>=threshold][\"main_future_code\"].tolist()\n",
    "\t\tcodes = list(set(codes))\n",
    "\t\t# ok---------------------------------------------------------------------------------------------------\n",
    "\t\t\"\"\"\n",
    "\t\t\tC2: 价格高于20日均线，且日KDJ交金叉\n",
    "\t\t\"\"\"\n",
    "\t\t# A larger date range (2*period) to ensure there's no data shortage \n",
    "\t\t# due to non-trading days on weekends (Saturday and Sunday).\n",
    "\t\tstart_date_string = get_previous_date(date_string = end_date_string, period=period*2+1) \n",
    "\t\tdates_list = generate_dates(start_date_string, end_date_string)\n",
    "\n",
    "\t\t# get the price information of main contract, including high,low, open,close\n",
    "\t\tdaily_prices = get_daily_info(codes, dates_list, period) \n",
    "\t\t# print(daily_prices) #['_id', 'date', 'future_code', 'close', 'open', 'high', 'low', 'deal', 'categoryID'],\n",
    "\t\t\n",
    "\t\tt3 = time.time()\n",
    "\t\t# print(f'xxxxx')\n",
    "\t\t# print(end_date_string)\n",
    "\t\trealtime_prices = get_realtime_price(end_date_string, tt, codes)\n",
    "\t\t# realtime_prices.to_csv(\"./realtime_prices.csv\", index=False, encoding=\"gbk\")\n",
    "\n",
    "\t\tma_selected_codes = check_upper_ma(daily_prices, realtime_prices, period)\n",
    "\t\tprint(f'xxma_selectedxxx')\n",
    "\t\tprint(ma_selected_codes)\n",
    "\t\tprint(f'xxxxx')\n",
    "\t\tt4 = time.time()\n",
    "\n",
    "\t\tkdj_selected_codes = check_daily_kdj(daily_prices, ma_selected_codes)\n",
    "\t\tprint(f'xxkdj_selected_codesxx')\n",
    "\t\tprint(kdj_selected_codes)\n",
    "\t\tprint(f'xxxx')\n",
    "\t\t# kdj_selected_codes = check_daily_kdj(daily_prices, codes)\n",
    "\t\t# print(kdj_selected_codes)\n",
    "\n",
    "\t\t\"\"\"\n",
    "\t\t\tC3: 价格高于60分钟-20均线，且60分钟-KDJ交金叉\n",
    "\t\t\"\"\"\n",
    "\t\tt5 = time.time()\n",
    "\n",
    "\t\t# for fast verification\n",
    "\t\tif os.path.isfile(\"./minutes_df.csv\"):\n",
    "\t\t\tminutes_df = pd.read_csv(\"./minutes_df.csv\", encoding=\"gbk\")\n",
    "\t\telse:\n",
    "\t\t\tminutes_df = get_minutes_info(codes, end_date_string)\n",
    "\t\t\t# minutes_df.to_csv(\"./minutes_df.csv\", index=False, encoding=\"gbk\")\t\n",
    "\t\t\tprint(len(minutes_df))\n",
    "\n",
    "\t\tt6 = time.time()\n",
    "\n",
    "\t\thourly_prices = minutes_df.groupby('future_code').apply(\\\n",
    "\t\t\tlambda group: group.iloc[::-60]).reset_index(drop=True)\n",
    "\n",
    "\t\tma_selected_codes_hourly = check_upper_ma(hourly_prices, realtime_prices, period_minute, if_minute=True)\n",
    "\t\t# print(ma_selected_codes_hourly)\n",
    "\n",
    "\t\tkdj_selected_codes_hourly = check_hourly_kdj(minutes_df, ma_selected_codes_hourly)\n",
    "\t\t# print(kdj_selected_codes_hourly)\n",
    "\t\tt7 = time.time()\n",
    "\n",
    "\t\t# 创建空的 DataFrame\n",
    "\t\tfinal_codes = list(set(kdj_selected_codes) & set(kdj_selected_codes_hourly))\n",
    "\t\tfinal_results = pd.DataFrame(columns=['评估指标','评估结果'])\n",
    "\t\tfinal_results.loc[0] = [\"正基差\", codes]\n",
    "\t\tfinal_results.loc[1] = [\"价格高于20日均线，且日KDJ交金叉\", kdj_selected_codes]\n",
    "\t\tfinal_results.loc[2] = [\"价格高于60分钟-20均线，且60分钟-KDJ交金叉\", kdj_selected_codes]\n",
    "\t\tfinal_results.loc[3] = [\"综合结果\", final_codes]\n",
    "\t\tfinal_results.to_csv(\"./final_results.csv\", index=False, encoding=\"gbk\")\n",
    "\n",
    "\t\t# print(f\"代码运行时间: {t2 - t1} 秒\")\n",
    "\t\t# print(f\"代码运行时间: {t3 - t2} 秒\")\n",
    "\t\t# print(f\"代码运行时间: {t4 - t3} 秒\")\n",
    "\t\t# print(f\"代码运行时间: {t5 - t4} 秒\")\n",
    "\t\t# print(f\"代码运行时间: {t6 - t5} 秒\")\n",
    "\t\t# print(f\"代码运行时间: {t7 - t6} 秒\")\n",
    "\t\t# print(\"正基差： \",codes)\n",
    "\t\t# print(\"ma_selected_codes \",ma_selected_codes)\n",
    "\t\t# print(\"kdj_selected_codes \",kdj_selected_codes)\n",
    "\t\t# print(\"ma_selected_codes_hourly \",ma_selected_codes_hourly)\n",
    "\t\t# print(\"kdj_selected_codes_hourly \",kdj_selected_codes_hourly)\n",
    "\t\t# print(\"final_codes \", final_codes)\n",
    "\t\t# print(final_results)\n",
    "\t\tprint(final_results)\n",
    "\t\treturn final_results\n",
    "\telse:\n",
    "\t\tprint(\"错误日期信息\")\n",
    "\t\treturn None"
   ]
  },
  {
   "cell_type": "code",
   "execution_count": 15,
   "metadata": {},
   "outputs": [],
   "source": [
    "date = [datetime.date(2023,9,12)+datetime.timedelta(days=i) for i in [3,7,8,9,10]]\n",
    "timepoint = [93500,94500,95500,\n",
    "             100500,101500,102500,103500,1004500,105500,\n",
    "             110500,111500,112500] + [133500, 134500,135500,\n",
    "                                      140500,141500,142500,143500,144500,145500]\n",
    "resultpd = pd.DataFrame()\n",
    "resultpd['date']=[]\n",
    "resultpd['time']=[]\n",
    "resultpd['code']=[]\n",
    "\n",
    "eval_resultpd = pd.DataFrame()\n",
    "eval_resultpd['date']=[]\n",
    "eval_resultpd['time']=[]\n",
    "eval_resultpd['code']=[]\n",
    "eval_resultpd['t+20']=[]\n",
    "eval_resultpd['t+60']=[]\n",
    "eval_resultpd['t_end']=[]\n"
   ]
  },
  {
   "cell_type": "code",
   "execution_count": 16,
   "metadata": {},
   "outputs": [
    {
     "name": "stdout",
     "output_type": "stream",
     "text": [
      "2023-09-14\n",
      "xxma_selectedxxx\n",
      "['FU2401', 'I2401', 'RS2311', 'Y2401']\n",
      "xxxxx\n",
      "xxkdj_selected_codesxx\n",
      "[]\n",
      "xxxx\n",
      "['CS2311', 'FU2401', 'CY2401', 'C2311', 'OI2401', 'CF2401', 'RS2311', 'M2401', 'SA2401', 'I2401', 'SR2401', 'Y2401', 'LC2401', 'UR2401', 'SI2311', 'RM2401']\n",
      "cur code:  CS2311\n",
      "cur code:  FU2401\n",
      "cur code:  CY2401\n",
      "cur code:  C2311\n",
      "cur code:  OI2401\n",
      "cur code:  CF2401\n",
      "cur code:  RS2311\n",
      "cur code:  M2401\n",
      "cur code:  SA2401\n",
      "cur code:  I2401\n",
      "cur code:  SR2401\n",
      "cur code:  Y2401\n",
      "cur code:  LC2401\n",
      "cur code:  UR2401\n",
      "cur code:  SI2311\n",
      "cur code:  RM2401\n",
      "0\n"
     ]
    },
    {
     "ename": "KeyError",
     "evalue": "'future_code'",
     "output_type": "error",
     "traceback": [
      "\u001b[1;31m---------------------------------------------------------------------------\u001b[0m",
      "\u001b[1;31mKeyError\u001b[0m                                  Traceback (most recent call last)",
      "\u001b[1;32md:\\github\\futurequant\\app\\show.ipynb Cell 17\u001b[0m line \u001b[0;36m3\n\u001b[0;32m      <a href='vscode-notebook-cell:/d%3A/github/futurequant/app/show.ipynb#X33sZmlsZQ%3D%3D?line=0'>1</a>\u001b[0m \u001b[39mfor\u001b[39;00m d \u001b[39min\u001b[39;00m date:\n\u001b[0;32m      <a href='vscode-notebook-cell:/d%3A/github/futurequant/app/show.ipynb#X33sZmlsZQ%3D%3D?line=1'>2</a>\u001b[0m     \u001b[39mfor\u001b[39;00m t \u001b[39min\u001b[39;00m timepoint:\n\u001b[1;32m----> <a href='vscode-notebook-cell:/d%3A/github/futurequant/app/show.ipynb#X33sZmlsZQ%3D%3D?line=2'>3</a>\u001b[0m         r \u001b[39m=\u001b[39m get_name_list(\u001b[39mstr\u001b[39;49m(d),t)\n\u001b[0;32m      <a href='vscode-notebook-cell:/d%3A/github/futurequant/app/show.ipynb#X33sZmlsZQ%3D%3D?line=3'>4</a>\u001b[0m         \u001b[39mif\u001b[39;00m r \u001b[39mis\u001b[39;00m \u001b[39mNone\u001b[39;00m:\n\u001b[0;32m      <a href='vscode-notebook-cell:/d%3A/github/futurequant/app/show.ipynb#X33sZmlsZQ%3D%3D?line=4'>5</a>\u001b[0m             \u001b[39mcontinue\u001b[39;00m\n",
      "\u001b[1;32md:\\github\\futurequant\\app\\show.ipynb Cell 17\u001b[0m line \u001b[0;36m7\n\u001b[0;32m     <a href='vscode-notebook-cell:/d%3A/github/futurequant/app/show.ipynb#X33sZmlsZQ%3D%3D?line=74'>75</a>\u001b[0m \t\u001b[39mprint\u001b[39m(\u001b[39mlen\u001b[39m(minutes_df))\n\u001b[0;32m     <a href='vscode-notebook-cell:/d%3A/github/futurequant/app/show.ipynb#X33sZmlsZQ%3D%3D?line=76'>77</a>\u001b[0m t6 \u001b[39m=\u001b[39m time\u001b[39m.\u001b[39mtime()\n\u001b[1;32m---> <a href='vscode-notebook-cell:/d%3A/github/futurequant/app/show.ipynb#X33sZmlsZQ%3D%3D?line=78'>79</a>\u001b[0m hourly_prices \u001b[39m=\u001b[39m minutes_df\u001b[39m.\u001b[39;49mgroupby(\u001b[39m'\u001b[39;49m\u001b[39mfuture_code\u001b[39;49m\u001b[39m'\u001b[39;49m)\u001b[39m.\u001b[39mapply(\\\n\u001b[0;32m     <a href='vscode-notebook-cell:/d%3A/github/futurequant/app/show.ipynb#X33sZmlsZQ%3D%3D?line=79'>80</a>\u001b[0m \t\u001b[39mlambda\u001b[39;00m group: group\u001b[39m.\u001b[39miloc[::\u001b[39m-\u001b[39m\u001b[39m60\u001b[39m])\u001b[39m.\u001b[39mreset_index(drop\u001b[39m=\u001b[39m\u001b[39mTrue\u001b[39;00m)\n\u001b[0;32m     <a href='vscode-notebook-cell:/d%3A/github/futurequant/app/show.ipynb#X33sZmlsZQ%3D%3D?line=81'>82</a>\u001b[0m ma_selected_codes_hourly \u001b[39m=\u001b[39m check_upper_ma(hourly_prices, realtime_prices, period_minute, if_minute\u001b[39m=\u001b[39m\u001b[39mTrue\u001b[39;00m)\n\u001b[0;32m     <a href='vscode-notebook-cell:/d%3A/github/futurequant/app/show.ipynb#X33sZmlsZQ%3D%3D?line=82'>83</a>\u001b[0m \u001b[39m# print(ma_selected_codes_hourly)\u001b[39;00m\n",
      "File \u001b[1;32md:\\github\\futurequant\\azfunction\\FutureCrawlerStartTrigger\\.venv\\lib\\site-packages\\pandas\\core\\frame.py:8252\u001b[0m, in \u001b[0;36mDataFrame.groupby\u001b[1;34m(self, by, axis, level, as_index, sort, group_keys, observed, dropna)\u001b[0m\n\u001b[0;32m   8249\u001b[0m     \u001b[39mraise\u001b[39;00m \u001b[39mTypeError\u001b[39;00m(\u001b[39m\"\u001b[39m\u001b[39mYou have to supply one of \u001b[39m\u001b[39m'\u001b[39m\u001b[39mby\u001b[39m\u001b[39m'\u001b[39m\u001b[39m and \u001b[39m\u001b[39m'\u001b[39m\u001b[39mlevel\u001b[39m\u001b[39m'\u001b[39m\u001b[39m\"\u001b[39m)\n\u001b[0;32m   8250\u001b[0m axis \u001b[39m=\u001b[39m \u001b[39mself\u001b[39m\u001b[39m.\u001b[39m_get_axis_number(axis)\n\u001b[1;32m-> 8252\u001b[0m \u001b[39mreturn\u001b[39;00m DataFrameGroupBy(\n\u001b[0;32m   8253\u001b[0m     obj\u001b[39m=\u001b[39;49m\u001b[39mself\u001b[39;49m,\n\u001b[0;32m   8254\u001b[0m     keys\u001b[39m=\u001b[39;49mby,\n\u001b[0;32m   8255\u001b[0m     axis\u001b[39m=\u001b[39;49maxis,\n\u001b[0;32m   8256\u001b[0m     level\u001b[39m=\u001b[39;49mlevel,\n\u001b[0;32m   8257\u001b[0m     as_index\u001b[39m=\u001b[39;49mas_index,\n\u001b[0;32m   8258\u001b[0m     sort\u001b[39m=\u001b[39;49msort,\n\u001b[0;32m   8259\u001b[0m     group_keys\u001b[39m=\u001b[39;49mgroup_keys,\n\u001b[0;32m   8260\u001b[0m     observed\u001b[39m=\u001b[39;49mobserved,\n\u001b[0;32m   8261\u001b[0m     dropna\u001b[39m=\u001b[39;49mdropna,\n\u001b[0;32m   8262\u001b[0m )\n",
      "File \u001b[1;32md:\\github\\futurequant\\azfunction\\FutureCrawlerStartTrigger\\.venv\\lib\\site-packages\\pandas\\core\\groupby\\groupby.py:931\u001b[0m, in \u001b[0;36mGroupBy.__init__\u001b[1;34m(self, obj, keys, axis, level, grouper, exclusions, selection, as_index, sort, group_keys, observed, dropna)\u001b[0m\n\u001b[0;32m    928\u001b[0m \u001b[39mself\u001b[39m\u001b[39m.\u001b[39mdropna \u001b[39m=\u001b[39m dropna\n\u001b[0;32m    930\u001b[0m \u001b[39mif\u001b[39;00m grouper \u001b[39mis\u001b[39;00m \u001b[39mNone\u001b[39;00m:\n\u001b[1;32m--> 931\u001b[0m     grouper, exclusions, obj \u001b[39m=\u001b[39m get_grouper(\n\u001b[0;32m    932\u001b[0m         obj,\n\u001b[0;32m    933\u001b[0m         keys,\n\u001b[0;32m    934\u001b[0m         axis\u001b[39m=\u001b[39;49maxis,\n\u001b[0;32m    935\u001b[0m         level\u001b[39m=\u001b[39;49mlevel,\n\u001b[0;32m    936\u001b[0m         sort\u001b[39m=\u001b[39;49msort,\n\u001b[0;32m    937\u001b[0m         observed\u001b[39m=\u001b[39;49mobserved,\n\u001b[0;32m    938\u001b[0m         dropna\u001b[39m=\u001b[39;49m\u001b[39mself\u001b[39;49m\u001b[39m.\u001b[39;49mdropna,\n\u001b[0;32m    939\u001b[0m     )\n\u001b[0;32m    941\u001b[0m \u001b[39mself\u001b[39m\u001b[39m.\u001b[39mobj \u001b[39m=\u001b[39m obj\n\u001b[0;32m    942\u001b[0m \u001b[39mself\u001b[39m\u001b[39m.\u001b[39maxis \u001b[39m=\u001b[39m obj\u001b[39m.\u001b[39m_get_axis_number(axis)\n",
      "File \u001b[1;32md:\\github\\futurequant\\azfunction\\FutureCrawlerStartTrigger\\.venv\\lib\\site-packages\\pandas\\core\\groupby\\grouper.py:985\u001b[0m, in \u001b[0;36mget_grouper\u001b[1;34m(obj, key, axis, level, sort, observed, validate, dropna)\u001b[0m\n\u001b[0;32m    983\u001b[0m         in_axis, level, gpr \u001b[39m=\u001b[39m \u001b[39mFalse\u001b[39;00m, gpr, \u001b[39mNone\u001b[39;00m\n\u001b[0;32m    984\u001b[0m     \u001b[39melse\u001b[39;00m:\n\u001b[1;32m--> 985\u001b[0m         \u001b[39mraise\u001b[39;00m \u001b[39mKeyError\u001b[39;00m(gpr)\n\u001b[0;32m    986\u001b[0m \u001b[39melif\u001b[39;00m \u001b[39misinstance\u001b[39m(gpr, Grouper) \u001b[39mand\u001b[39;00m gpr\u001b[39m.\u001b[39mkey \u001b[39mis\u001b[39;00m \u001b[39mnot\u001b[39;00m \u001b[39mNone\u001b[39;00m:\n\u001b[0;32m    987\u001b[0m     \u001b[39m# Add key to exclusions\u001b[39;00m\n\u001b[0;32m    988\u001b[0m     exclusions\u001b[39m.\u001b[39madd(gpr\u001b[39m.\u001b[39mkey)\n",
      "\u001b[1;31mKeyError\u001b[0m: 'future_code'"
     ]
    }
   ],
   "source": [
    "for d in date:\n",
    "    for t in timepoint:\n",
    "        r = get_name_list(str(d),t)\n",
    "        if r is None:\n",
    "            continue\n",
    "        else:\n",
    "            l = r.iat[2,1]\n",
    "            if len(l)==0:\n",
    "                continue\n",
    "            else:\n",
    "                resultpd = pd.concat([resultpd, pd.DataFrame({'date': d, 'time': t,'code':l})], ignore_index=True)\n",
    "                # resultpd = resultpd.append({'date': d, 'time': t,'code':l}, ignore_index=True)\n",
    "if len(resultpd)>0:\n",
    "    resultpd.to_csv('resultpd.csv', encoding='utf-8', index=False)"
   ]
  },
  {
   "cell_type": "code",
   "execution_count": 216,
   "metadata": {},
   "outputs": [
    {
     "data": {
      "text/plain": [
       "21"
      ]
     },
     "execution_count": 216,
     "metadata": {},
     "output_type": "execute_result"
    }
   ],
   "source": [
    "len(resultpd)"
   ]
  },
  {
   "cell_type": "markdown",
   "metadata": {},
   "source": []
  },
  {
   "cell_type": "code",
   "execution_count": 201,
   "metadata": {},
   "outputs": [
    {
     "name": "stdout",
     "output_type": "stream",
     "text": [
      "2023-09-13\n",
      "xxma_selectedxxx\n",
      "['FU2401', 'I2401', 'RS2311', 'Y2401']\n",
      "xxxxx\n",
      "xxkdj_selected_codesxx\n",
      "['I2401']\n",
      "xxxx\n",
      "['SI2311', 'FU2401', 'RS2311', 'CF2401', 'LC2401', 'SA2401', 'RM2401', 'M2401', 'UR2401', 'I2401', 'CS2311', 'SR2401', 'C2311', 'Y2401', 'CY2401']\n",
      "cur code:  SI2311\n",
      "cur code:  FU2401\n",
      "cur code:  RS2311\n",
      "cur code:  CF2401\n",
      "cur code:  LC2401\n",
      "cur code:  SA2401\n",
      "cur code:  RM2401\n",
      "cur code:  M2401\n",
      "cur code:  UR2401\n",
      "cur code:  I2401\n",
      "cur code:  CS2311\n",
      "cur code:  SR2401\n",
      "cur code:  C2311\n",
      "cur code:  Y2401\n",
      "cur code:  CY2401\n",
      "40079\n",
      "                         评估指标  \\\n",
      "0                         正基差   \n",
      "1          价格高于20日均线，且日KDJ交金叉   \n",
      "2  价格高于60分钟-20均线，且60分钟-KDJ交金叉   \n",
      "3                        综合结果   \n",
      "\n",
      "                                                评估结果  \n",
      "0  [SI2311, FU2401, RS2311, CF2401, LC2401, SA240...  \n",
      "1                                            [I2401]  \n",
      "2                                            [I2401]  \n",
      "3                                                 []  \n"
     ]
    }
   ],
   "source": [
    "r = get_name_list(str(datetime.date(2023,9,14)),230000)"
   ]
  },
  {
   "cell_type": "code",
   "execution_count": 204,
   "metadata": {},
   "outputs": [
    {
     "data": {
      "text/plain": [
       "[]"
      ]
     },
     "execution_count": 204,
     "metadata": {},
     "output_type": "execute_result"
    }
   ],
   "source": [
    "r.iat[3, 1]"
   ]
  },
  {
   "cell_type": "code",
   "execution_count": null,
   "metadata": {},
   "outputs": [],
   "source": []
  }
 ],
 "metadata": {
  "kernelspec": {
   "display_name": ".venv",
   "language": "python",
   "name": "python3"
  },
  "language_info": {
   "codemirror_mode": {
    "name": "ipython",
    "version": 3
   },
   "file_extension": ".py",
   "mimetype": "text/x-python",
   "name": "python",
   "nbconvert_exporter": "python",
   "pygments_lexer": "ipython3",
   "version": "3.8.10"
  },
  "orig_nbformat": 4
 },
 "nbformat": 4,
 "nbformat_minor": 2
}
