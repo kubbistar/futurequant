{
 "cells": [
  {
   "cell_type": "code",
   "execution_count": 12,
   "metadata": {},
   "outputs": [],
   "source": [
    "import plotly\n",
    "from algo import *"
   ]
  },
  {
   "cell_type": "code",
   "execution_count": 17,
   "metadata": {},
   "outputs": [],
   "source": [
    "def change_HMS(t=0):\n",
    "    '''change int to h-m-s format \n",
    "    '''\n",
    "    if t < 0 or t > 999999:\n",
    "        return None, None, None\n",
    "    \n",
    "    h, m, s= \"{:02d}\".format(int(t/10000)), \"{:02d}\".format(int(t%10000/100)), \"{:02d}\".format(int(t%100))\n",
    "\n",
    "    return h, m, s"
   ]
  },
  {
   "cell_type": "code",
   "execution_count": 36,
   "metadata": {},
   "outputs": [],
   "source": [
    "def change_to_HMS(t=''):\n",
    "    '''change time format to int\n",
    "    '''\n",
    "    return int(str(int(t.hour))+\"{:02d}\".format(int(t.minute))+\"{:02d}\".format((int(t.second))))\n"
   ]
  },
  {
   "cell_type": "code",
   "execution_count": 38,
   "metadata": {},
   "outputs": [
    {
     "name": "stdout",
     "output_type": "stream",
     "text": [
      "10000\n"
     ]
    }
   ],
   "source": [
    "import datetime\n",
    "a = datetime.time(hour=1,minute=0,second=0)\n",
    "print(change_to_HMS(a))"
   ]
  },
  {
   "cell_type": "code",
   "execution_count": 18,
   "metadata": {},
   "outputs": [],
   "source": [
    "# 获取几只代码的数据\n",
    "main_future_codes = []\n",
    "date = '2023-09-12'\n"
   ]
  },
  {
   "cell_type": "code",
   "execution_count": 19,
   "metadata": {},
   "outputs": [],
   "source": [
    "def get_main_future_codes(end_date_string, period = 20, period_minute = 20, threshold = 0.05):\n",
    "\n",
    "\tend_date = datetime.strptime(end_date_string, \"%Y-%m-%d\")\n",
    "\tend_date_ahead = end_date - timedelta(days=1)\n",
    "\tend_date_ahead_string = end_date_ahead.strftime('%Y-%m-%d')  # 格式为 YYYY-MM-DD\n",
    "\n",
    "\tif is_valid_date(end_date_string):\n",
    "\n",
    "\t\t\"\"\"\n",
    "\t\t\tC1: 正基差过滤\n",
    "\t\t\"\"\"\n",
    "\t\tt1 = time.time()\n",
    "\t\t# get namelist by basis of percentage\n",
    "\t\tprint(end_date_ahead_string)\n",
    "\t\tbasis_future = pd.DataFrame([i for i in DCE_commodity_price_collection.find(\n",
    "\t\t\t\t\t\t# {\"date\": end_date_string}\n",
    "\t\t\t\t\t\t{\"date\": end_date_ahead_string}\n",
    "\t\t\t\t\t).sort(\"main_future_code\", pymongo.ASCENDING) ])\n",
    "\t\t# print(basis_future)\n",
    "\t\t# print(basis_future)\n",
    "\t\tbasis_future = basis_future.sort_values(by='main_cf_basis_percent', ascending=False)\n",
    "\n",
    "\t\tt2 = time.time()\n",
    "\n",
    "\t\t# Find the main contract with +5% positive basis \n",
    "\t\tcodes = basis_future[basis_future[\"main_cf_basis_percent\"]>=threshold][\"main_future_code\"].tolist()\n",
    "\t\tcodes = list(set(codes))\n",
    "\t\treturn codes"
   ]
  },
  {
   "cell_type": "code",
   "execution_count": 20,
   "metadata": {},
   "outputs": [
    {
     "name": "stdout",
     "output_type": "stream",
     "text": [
      "2023-09-11\n",
      "['FU2401', 'RS2311', 'CF2401', 'LC2401', 'SA2401', 'RM2401', 'M2401', 'UR2401', 'I2401', 'CS2311', 'SR2401', 'C2311', 'Y2401', 'CY2401']\n"
     ]
    }
   ],
   "source": [
    "main_future_codes = get_main_future_codes(date)\n",
    "print(main_future_codes)"
   ]
  },
  {
   "cell_type": "code",
   "execution_count": null,
   "metadata": {},
   "outputs": [],
   "source": [
    "# def get_main_future_price_daily(codes,date):\n",
    "    "
   ]
  },
  {
   "cell_type": "code",
   "execution_count": null,
   "metadata": {},
   "outputs": [],
   "source": [
    "def get_realtime_price(date, tt, codelist=[]):\n",
    "    realtime_prices_df = pd.DataFrame()\n",
    "    # print(codelist)\n",
    "    for code in codelist:\n",
    "        cur_realtime_prices = DCE_future_price_collection.find(\n",
    "            {\"$and\":[\n",
    "                {'date':date},\n",
    "                {'clock':{\"$lt\":tt}},\n",
    "                {'future_code':code}]}\n",
    "            ).sort(\"clock\", pymongo.DESCENDING).limit(1)\n",
    "        cur_df = pd.DataFrame(list(cur_realtime_prices))\n",
    "\t\t# print(cur_df)\n",
    "        realtime_prices_df = pd.concat([realtime_prices_df, cur_df], ignore_index=True)\n",
    "\n",
    "    return realtime_prices_df"
   ]
  },
  {
   "cell_type": "code",
   "execution_count": null,
   "metadata": {},
   "outputs": [],
   "source": [
    "\n",
    "\"\"\"\n",
    "\tHere, 'end_date_string' typically represents today. \n",
    "\tHowever, 'end_date' should be adjusted to be one day ahead ('end_date_ahead') for easier calculations, \n",
    "\tespecially when computing indicators such as MA and KDJ.\n",
    "\"\"\"\n",
    "def get_name_list(end_date_string, tt, period = 20, period_minute = 20, threshold = 0.05):\n",
    "\tend_date = datetime.strptime(end_date_string, \"%Y-%m-%d\")\n",
    "\tend_date_ahead = end_date - timedelta(days=1)\n",
    "\tend_date_ahead_string = end_date_ahead.strftime('%Y-%m-%d')  # 格式为 YYYY-MM-DD\n",
    "\n",
    "\tif is_valid_date(end_date_string):\n",
    "\n",
    "\t\t\"\"\"\n",
    "\t\t\tC1: 正基差过滤\n",
    "\t\t\"\"\"\n",
    "\t\tt1 = time.time()\n",
    "\t\t# get namelist by basis of percentage\n",
    "\t\tprint(end_date_ahead_string)\n",
    "\t\tbasis_future = pd.DataFrame([i for i in DCE_commodity_price_collection.find(\n",
    "\t\t\t\t\t\t# {\"date\": end_date_string}\n",
    "\t\t\t\t\t\t{\"date\": end_date_ahead_string}\n",
    "\t\t\t\t\t).sort(\"main_future_code\", pymongo.ASCENDING) ])\n",
    "\t\t# print(basis_future)\n",
    "\t\tprint(basis_future)\n",
    "\t\tbasis_future = basis_future.sort_values(by='main_cf_basis_percent', ascending=False)\n",
    "\n",
    "\t\tt2 = time.time()\n",
    "\n",
    "\t\t# Find the main contract with +5% positive basis \n",
    "\t\tcodes = basis_future[basis_future[\"main_cf_basis_percent\"]>=threshold][\"main_future_code\"].tolist()\n",
    "\t\tcodes = list(set(codes))\n",
    "\n",
    "\t\t\"\"\"\n",
    "\t\t\tC2: 价格高于20日均线，且日KDJ交金叉\n",
    "\t\t\"\"\"\n",
    "\t\t# A larger date range (2*period) to ensure there's no data shortage \n",
    "\t\t# due to non-trading days on weekends (Saturday and Sunday).\n",
    "\t\tstart_date_string = get_previous_date(date_string = end_date_string, period=period*2+1) \n",
    "\t\tdates_list = generate_dates(start_date_string, end_date_string)\n",
    "\n",
    "\t\t# get the price information of main contract, including high,low, open,close\n",
    "\t\tdaily_prices = get_daily_info(codes, dates_list, period) \n",
    "\t\t# print(daily_prices.columns) #['_id', 'date', 'future_code', 'close', 'open', 'high', 'low', 'deal', 'categoryID'],\n",
    "\t\t\n",
    "\t\tt3 = time.time()\n",
    "\t\t# print(f'xxxxx')\n",
    "\t\t# print(end_date_string)\n",
    "\t\trealtime_prices = get_realtime_price(end_date_string, tt, codes)\n",
    "\t\t# realtime_prices.to_csv(\"./realtime_prices.csv\", index=False, encoding=\"gbk\")\n",
    "\n",
    "\t\tma_selected_codes = check_upper_ma(daily_prices, realtime_prices, period)\n",
    "\t\t# print(ma_selected_codes)\n",
    "\n",
    "\t\tt4 = time.time()\n",
    "\n",
    "\t\tkdj_selected_codes = check_daily_kdj(daily_prices, ma_selected_codes)\n",
    "\t\t# kdj_selected_codes = check_daily_kdj(daily_prices, codes)\n",
    "\t\t# print(kdj_selected_codes)\n",
    "\n",
    "\t\t\"\"\"\n",
    "\t\t\tC3: 价格高于60分钟-20均线，且60分钟-KDJ交金叉\n",
    "\t\t\"\"\"\n",
    "\t\tt5 = time.time()\n",
    "\n",
    "\t\t# for fast verification\n",
    "\t\tif os.path.isfile(\"./minutes_df.csv\"):\n",
    "\t\t\tminutes_df = pd.read_csv(\"./minutes_df.csv\", encoding=\"gbk\")\n",
    "\t\telse:\n",
    "\t\t\tminutes_df = get_minutes_info(codes, end_date_string)\n",
    "\t\t\t# minutes_df.to_csv(\"./minutes_df.csv\", index=False, encoding=\"gbk\")\t\n",
    "\t\t\tprint(len(minutes_df))\n",
    "\n",
    "\t\tt6 = time.time()\n",
    "\n",
    "\t\thourly_prices = minutes_df.groupby('future_code').apply(\\\n",
    "\t\t\tlambda group: group.iloc[::-60]).reset_index(drop=True)\n",
    "\n",
    "\t\tma_selected_codes_hourly = check_upper_ma(hourly_prices, realtime_prices, period_minute, if_minute=True)\n",
    "\t\t# print(ma_selected_codes_hourly)\n",
    "\n",
    "\t\tkdj_selected_codes_hourly = check_hourly_kdj(minutes_df, ma_selected_codes_hourly)\n",
    "\t\t# print(kdj_selected_codes_hourly)\n",
    "\t\tt7 = time.time()\n",
    "\n",
    "\t\t# 创建空的 DataFrame\n",
    "\t\tfinal_codes = list(set(kdj_selected_codes) & set(kdj_selected_codes_hourly))\n",
    "\t\tfinal_results = pd.DataFrame(columns=['评估指标','评估结果'])\n",
    "\t\tfinal_results.loc[0] = [\"正基差\", codes]\n",
    "\t\tfinal_results.loc[1] = [\"价格高于20日均线，且日KDJ交金叉\", kdj_selected_codes]\n",
    "\t\tfinal_results.loc[2] = [\"价格高于60分钟-20均线，且60分钟-KDJ交金叉\", kdj_selected_codes]\n",
    "\t\tfinal_results.loc[3] = [\"综合结果\", final_codes]\n",
    "\t\tfinal_results.to_csv(\"./final_results.csv\", index=False, encoding=\"gbk\")\n",
    "\n",
    "\t\t# print(f\"代码运行时间: {t2 - t1} 秒\")\n",
    "\t\t# print(f\"代码运行时间: {t3 - t2} 秒\")\n",
    "\t\t# print(f\"代码运行时间: {t4 - t3} 秒\")\n",
    "\t\t# print(f\"代码运行时间: {t5 - t4} 秒\")\n",
    "\t\t# print(f\"代码运行时间: {t6 - t5} 秒\")\n",
    "\t\t# print(f\"代码运行时间: {t7 - t6} 秒\")\n",
    "\t\t# print(\"正基差： \",codes)\n",
    "\t\t# print(\"ma_selected_codes \",ma_selected_codes)\n",
    "\t\t# print(\"kdj_selected_codes \",kdj_selected_codes)\n",
    "\t\t# print(\"ma_selected_codes_hourly \",ma_selected_codes_hourly)\n",
    "\t\t# print(\"kdj_selected_codes_hourly \",kdj_selected_codes_hourly)\n",
    "\t\t# print(\"final_codes \", final_codes)\n",
    "\t\t# print(final_results)\n",
    "\t\tprint(final_results)\n",
    "\t\treturn final_results\n",
    "\telse:\n",
    "\t\tprint(\"错误日期信息\")\n",
    "\t\treturn None"
   ]
  }
 ],
 "metadata": {
  "kernelspec": {
   "display_name": ".venv",
   "language": "python",
   "name": "python3"
  },
  "language_info": {
   "codemirror_mode": {
    "name": "ipython",
    "version": 3
   },
   "file_extension": ".py",
   "mimetype": "text/x-python",
   "name": "python",
   "nbconvert_exporter": "python",
   "pygments_lexer": "ipython3",
   "version": "3.8.10"
  },
  "orig_nbformat": 4
 },
 "nbformat": 4,
 "nbformat_minor": 2
}
