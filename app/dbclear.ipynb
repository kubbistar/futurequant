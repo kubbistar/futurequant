{
 "cells": [
  {
   "cell_type": "code",
   "execution_count": 1,
   "metadata": {},
   "outputs": [],
   "source": [
    "import pymongo\n",
    "\n",
    "DCE_DB_NAME = \"DCEdb\"\n",
    "DCE_COMMODITY_PRICE_COLLECTION_NAME = \"CommodityPriceDb\"\n",
    "DCE_FUTURE_PRICE_COLLECTION_NAME = \"DCEFuturePriceDb\"\n",
    "DCE_FUTURE_CODE_COLLECTION_NAME = 'DCEFutureCodeDb'\n",
    "COSMOS_CONNECTION_STRING = 'mongodb://lei:WMNi1Hh4vyOVG4V3OLcyaoZwOOl7YVHUUiKFeuGKbiS9rytxi2qd2VpnekCYj8IVrN6AFVHvLBUxACDb7vuFnA==@lei.mongo.cosmos.azure.com:10255/?ssl=true&replicaSet=globaldb&retrywrites=false&maxIdleTimeMS=600000&appName=@lei@'\n"
   ]
  },
  {
   "cell_type": "code",
   "execution_count": 2,
   "metadata": {},
   "outputs": [],
   "source": [
    "client = pymongo.MongoClient(COSMOS_CONNECTION_STRING)\n",
    "DCEdb = client[DCE_DB_NAME]\n",
    "DCE_future_price_collection = DCEdb[DCE_FUTURE_PRICE_COLLECTION_NAME]\n",
    "DCE_commodity_price_collection = DCEdb[DCE_COMMODITY_PRICE_COLLECTION_NAME]"
   ]
  },
  {
   "cell_type": "code",
   "execution_count": 3,
   "metadata": {},
   "outputs": [],
   "source": [
    "import datetime\n",
    "base = datetime.date.today()\n",
    "numdays = 12\n",
    "dates_list = [str(base - datetime.timedelta(days=x)) for x in range(numdays)]\n"
   ]
  },
  {
   "cell_type": "code",
   "execution_count": 4,
   "metadata": {},
   "outputs": [
    {
     "name": "stdout",
     "output_type": "stream",
     "text": [
      "clearing date 2023-09-28\n"
     ]
    },
    {
     "name": "stderr",
     "output_type": "stream",
     "text": [
      "  0%|          | 0/800 [00:00<?, ?it/s]"
     ]
    },
    {
     "name": "stdout",
     "output_type": "stream",
     "text": [
      "0/800\n"
     ]
    },
    {
     "name": "stderr",
     "output_type": "stream",
     "text": [
      "  0%|          | 0/800 [01:10<?, ?it/s]\n"
     ]
    },
    {
     "ename": "ExecutionTimeout",
     "evalue": "Request timed out. Retries due to rate limiting: True., full error: {'ok': 0.0, 'errmsg': 'Request timed out. Retries due to rate limiting: True.', 'code': 50, 'codeName': 'ExceededTimeLimit'}",
     "output_type": "error",
     "traceback": [
      "\u001b[1;31m---------------------------------------------------------------------------\u001b[0m",
      "\u001b[1;31mExecutionTimeout\u001b[0m                          Traceback (most recent call last)",
      "\u001b[1;32md:\\github\\futurequant\\app\\dbclear.ipynb Cell 4\u001b[0m line \u001b[0;36m1\n\u001b[0;32m      <a href='vscode-notebook-cell:/d%3A/github/futurequant/app/dbclear.ipynb#X12sZmlsZQ%3D%3D?line=4'>5</a>\u001b[0m \u001b[39mprint\u001b[39m(\u001b[39mf\u001b[39m\u001b[39m'\u001b[39m\u001b[39m{\u001b[39;00mi\u001b[39m}\u001b[39;00m\u001b[39m/800\u001b[39m\u001b[39m'\u001b[39m)\n\u001b[0;32m      <a href='vscode-notebook-cell:/d%3A/github/futurequant/app/dbclear.ipynb#X12sZmlsZQ%3D%3D?line=5'>6</a>\u001b[0m pipeline \u001b[39m=\u001b[39m [\n\u001b[0;32m      <a href='vscode-notebook-cell:/d%3A/github/futurequant/app/dbclear.ipynb#X12sZmlsZQ%3D%3D?line=6'>7</a>\u001b[0m {\u001b[39m\"\u001b[39m\u001b[39m$match\u001b[39m\u001b[39m\"\u001b[39m:{\u001b[39m\"\u001b[39m\u001b[39mdate\u001b[39m\u001b[39m\"\u001b[39m:{\u001b[39m\"\u001b[39m\u001b[39m$eq\u001b[39m\u001b[39m\"\u001b[39m:to_delete_date}}}, \n\u001b[0;32m      <a href='vscode-notebook-cell:/d%3A/github/futurequant/app/dbclear.ipynb#X12sZmlsZQ%3D%3D?line=7'>8</a>\u001b[0m { \u001b[39m\"\u001b[39m\u001b[39m$group\u001b[39m\u001b[39m\"\u001b[39m: { \u001b[39m\"\u001b[39m\u001b[39m_id\u001b[39m\u001b[39m\"\u001b[39m: { \u001b[39m\"\u001b[39m\u001b[39mfuture_code\u001b[39m\u001b[39m\"\u001b[39m: \u001b[39m\"\u001b[39m\u001b[39m$future_code\u001b[39m\u001b[39m\"\u001b[39m, \u001b[39m\"\u001b[39m\u001b[39mclock\u001b[39m\u001b[39m\"\u001b[39m: \u001b[39m\"\u001b[39m\u001b[39m$clock\u001b[39m\u001b[39m\"\u001b[39m, \u001b[39m\"\u001b[39m\u001b[39mdate\u001b[39m\u001b[39m\"\u001b[39m: \u001b[39m\"\u001b[39m\u001b[39m$date\u001b[39m\u001b[39m\"\u001b[39m }, \n\u001b[1;32m   (...)\u001b[0m\n\u001b[0;32m     <a href='vscode-notebook-cell:/d%3A/github/futurequant/app/dbclear.ipynb#X12sZmlsZQ%3D%3D?line=15'>16</a>\u001b[0m { \u001b[39m\"\u001b[39m\u001b[39m$project\u001b[39m\u001b[39m\"\u001b[39m: { \u001b[39m\"\u001b[39m\u001b[39m_id\u001b[39m\u001b[39m\"\u001b[39m: \u001b[39m0\u001b[39m } },\n\u001b[0;32m     <a href='vscode-notebook-cell:/d%3A/github/futurequant/app/dbclear.ipynb#X12sZmlsZQ%3D%3D?line=16'>17</a>\u001b[0m ]\n\u001b[1;32m---> <a href='vscode-notebook-cell:/d%3A/github/futurequant/app/dbclear.ipynb#X12sZmlsZQ%3D%3D?line=17'>18</a>\u001b[0m duped_items \u001b[39m=\u001b[39m \u001b[39mlist\u001b[39m(DCEdb\u001b[39m.\u001b[39;49mDCEFuturePriceDb\u001b[39m.\u001b[39;49maggregate(pipeline))\n\u001b[0;32m     <a href='vscode-notebook-cell:/d%3A/github/futurequant/app/dbclear.ipynb#X12sZmlsZQ%3D%3D?line=18'>19</a>\u001b[0m \u001b[39mif\u001b[39;00m \u001b[39mlen\u001b[39m(duped_items) \u001b[39m==\u001b[39m\u001b[39m0\u001b[39m:\n\u001b[0;32m     <a href='vscode-notebook-cell:/d%3A/github/futurequant/app/dbclear.ipynb#X12sZmlsZQ%3D%3D?line=19'>20</a>\u001b[0m     \u001b[39mbreak\u001b[39;00m\n",
      "File \u001b[1;32md:\\github\\futurequant\\azfunction\\FutureCrawlerStartTrigger\\.venv\\lib\\site-packages\\pymongo\\collection.py:2722\u001b[0m, in \u001b[0;36mCollection.aggregate\u001b[1;34m(self, pipeline, session, let, comment, **kwargs)\u001b[0m\n\u001b[0;32m   2644\u001b[0m \u001b[39m\u001b[39m\u001b[39m\"\"\"Perform an aggregation using the aggregation framework on this\u001b[39;00m\n\u001b[0;32m   2645\u001b[0m \u001b[39mcollection.\u001b[39;00m\n\u001b[0;32m   2646\u001b[0m \n\u001b[1;32m   (...)\u001b[0m\n\u001b[0;32m   2719\u001b[0m \u001b[39m    https://mongodb.com/docs/manual/reference/command/aggregate\u001b[39;00m\n\u001b[0;32m   2720\u001b[0m \u001b[39m\"\"\"\u001b[39;00m\n\u001b[0;32m   2721\u001b[0m \u001b[39mwith\u001b[39;00m \u001b[39mself\u001b[39m\u001b[39m.\u001b[39m__database\u001b[39m.\u001b[39mclient\u001b[39m.\u001b[39m_tmp_session(session, close\u001b[39m=\u001b[39m\u001b[39mFalse\u001b[39;00m) \u001b[39mas\u001b[39;00m s:\n\u001b[1;32m-> 2722\u001b[0m     \u001b[39mreturn\u001b[39;00m \u001b[39mself\u001b[39;49m\u001b[39m.\u001b[39;49m_aggregate(\n\u001b[0;32m   2723\u001b[0m         _CollectionAggregationCommand,\n\u001b[0;32m   2724\u001b[0m         pipeline,\n\u001b[0;32m   2725\u001b[0m         CommandCursor,\n\u001b[0;32m   2726\u001b[0m         session\u001b[39m=\u001b[39;49ms,\n\u001b[0;32m   2727\u001b[0m         explicit_session\u001b[39m=\u001b[39;49msession \u001b[39mis\u001b[39;49;00m \u001b[39mnot\u001b[39;49;00m \u001b[39mNone\u001b[39;49;00m,\n\u001b[0;32m   2728\u001b[0m         let\u001b[39m=\u001b[39;49mlet,\n\u001b[0;32m   2729\u001b[0m         comment\u001b[39m=\u001b[39;49mcomment,\n\u001b[0;32m   2730\u001b[0m         \u001b[39m*\u001b[39;49m\u001b[39m*\u001b[39;49mkwargs,\n\u001b[0;32m   2731\u001b[0m     )\n",
      "File \u001b[1;32md:\\github\\futurequant\\azfunction\\FutureCrawlerStartTrigger\\.venv\\lib\\site-packages\\pymongo\\_csot.py:108\u001b[0m, in \u001b[0;36mapply.<locals>.csot_wrapper\u001b[1;34m(self, *args, **kwargs)\u001b[0m\n\u001b[0;32m    106\u001b[0m         \u001b[39mwith\u001b[39;00m _TimeoutContext(timeout):\n\u001b[0;32m    107\u001b[0m             \u001b[39mreturn\u001b[39;00m func(\u001b[39mself\u001b[39m, \u001b[39m*\u001b[39margs, \u001b[39m*\u001b[39m\u001b[39m*\u001b[39mkwargs)\n\u001b[1;32m--> 108\u001b[0m \u001b[39mreturn\u001b[39;00m func(\u001b[39mself\u001b[39;49m, \u001b[39m*\u001b[39;49margs, \u001b[39m*\u001b[39;49m\u001b[39m*\u001b[39;49mkwargs)\n",
      "File \u001b[1;32md:\\github\\futurequant\\azfunction\\FutureCrawlerStartTrigger\\.venv\\lib\\site-packages\\pymongo\\collection.py:2629\u001b[0m, in \u001b[0;36mCollection._aggregate\u001b[1;34m(self, aggregation_command, pipeline, cursor_class, session, explicit_session, let, comment, **kwargs)\u001b[0m\n\u001b[0;32m   2618\u001b[0m     kwargs[\u001b[39m\"\u001b[39m\u001b[39mcomment\u001b[39m\u001b[39m\"\u001b[39m] \u001b[39m=\u001b[39m comment\n\u001b[0;32m   2619\u001b[0m cmd \u001b[39m=\u001b[39m aggregation_command(\n\u001b[0;32m   2620\u001b[0m     \u001b[39mself\u001b[39m,\n\u001b[0;32m   2621\u001b[0m     cursor_class,\n\u001b[1;32m   (...)\u001b[0m\n\u001b[0;32m   2626\u001b[0m     user_fields\u001b[39m=\u001b[39m{\u001b[39m\"\u001b[39m\u001b[39mcursor\u001b[39m\u001b[39m\"\u001b[39m: {\u001b[39m\"\u001b[39m\u001b[39mfirstBatch\u001b[39m\u001b[39m\"\u001b[39m: \u001b[39m1\u001b[39m}},\n\u001b[0;32m   2627\u001b[0m )\n\u001b[1;32m-> 2629\u001b[0m \u001b[39mreturn\u001b[39;00m \u001b[39mself\u001b[39;49m\u001b[39m.\u001b[39;49m__database\u001b[39m.\u001b[39;49mclient\u001b[39m.\u001b[39;49m_retryable_read(\n\u001b[0;32m   2630\u001b[0m     cmd\u001b[39m.\u001b[39;49mget_cursor,\n\u001b[0;32m   2631\u001b[0m     cmd\u001b[39m.\u001b[39;49mget_read_preference(session),  \u001b[39m# type: ignore[arg-type]\u001b[39;49;00m\n\u001b[0;32m   2632\u001b[0m     session,\n\u001b[0;32m   2633\u001b[0m     retryable\u001b[39m=\u001b[39;49m\u001b[39mnot\u001b[39;49;00m cmd\u001b[39m.\u001b[39;49m_performs_write,\n\u001b[0;32m   2634\u001b[0m )\n",
      "File \u001b[1;32md:\\github\\futurequant\\azfunction\\FutureCrawlerStartTrigger\\.venv\\lib\\site-packages\\pymongo\\_csot.py:108\u001b[0m, in \u001b[0;36mapply.<locals>.csot_wrapper\u001b[1;34m(self, *args, **kwargs)\u001b[0m\n\u001b[0;32m    106\u001b[0m         \u001b[39mwith\u001b[39;00m _TimeoutContext(timeout):\n\u001b[0;32m    107\u001b[0m             \u001b[39mreturn\u001b[39;00m func(\u001b[39mself\u001b[39m, \u001b[39m*\u001b[39margs, \u001b[39m*\u001b[39m\u001b[39m*\u001b[39mkwargs)\n\u001b[1;32m--> 108\u001b[0m \u001b[39mreturn\u001b[39;00m func(\u001b[39mself\u001b[39;49m, \u001b[39m*\u001b[39;49margs, \u001b[39m*\u001b[39;49m\u001b[39m*\u001b[39;49mkwargs)\n",
      "File \u001b[1;32md:\\github\\futurequant\\azfunction\\FutureCrawlerStartTrigger\\.venv\\lib\\site-packages\\pymongo\\mongo_client.py:1535\u001b[0m, in \u001b[0;36mMongoClient._retryable_read\u001b[1;34m(self, func, read_pref, session, address, retryable)\u001b[0m\n\u001b[0;32m   1533\u001b[0m             \u001b[39massert\u001b[39;00m last_error \u001b[39mis\u001b[39;00m \u001b[39mnot\u001b[39;00m \u001b[39mNone\u001b[39;00m\n\u001b[0;32m   1534\u001b[0m             \u001b[39mraise\u001b[39;00m last_error\n\u001b[1;32m-> 1535\u001b[0m         \u001b[39mreturn\u001b[39;00m func(session, server, conn, read_pref)\n\u001b[0;32m   1536\u001b[0m \u001b[39mexcept\u001b[39;00m ServerSelectionTimeoutError:\n\u001b[0;32m   1537\u001b[0m     \u001b[39mif\u001b[39;00m retrying:\n\u001b[0;32m   1538\u001b[0m         \u001b[39m# The application may think the write was never attempted\u001b[39;00m\n\u001b[0;32m   1539\u001b[0m         \u001b[39m# if we raise ServerSelectionTimeoutError on the retry\u001b[39;00m\n\u001b[0;32m   1540\u001b[0m         \u001b[39m# attempt. Raise the original exception instead.\u001b[39;00m\n",
      "File \u001b[1;32md:\\github\\futurequant\\azfunction\\FutureCrawlerStartTrigger\\.venv\\lib\\site-packages\\pymongo\\aggregation.py:164\u001b[0m, in \u001b[0;36m_AggregationCommand.get_cursor\u001b[1;34m(self, session, server, conn, read_preference)\u001b[0m\n\u001b[0;32m    161\u001b[0m     write_concern \u001b[39m=\u001b[39m \u001b[39mNone\u001b[39;00m\n\u001b[0;32m    163\u001b[0m \u001b[39m# Run command.\u001b[39;00m\n\u001b[1;32m--> 164\u001b[0m result \u001b[39m=\u001b[39m conn\u001b[39m.\u001b[39;49mcommand(\n\u001b[0;32m    165\u001b[0m     \u001b[39mself\u001b[39;49m\u001b[39m.\u001b[39;49m_database\u001b[39m.\u001b[39;49mname,\n\u001b[0;32m    166\u001b[0m     cmd,\n\u001b[0;32m    167\u001b[0m     read_preference,\n\u001b[0;32m    168\u001b[0m     \u001b[39mself\u001b[39;49m\u001b[39m.\u001b[39;49m_target\u001b[39m.\u001b[39;49mcodec_options,\n\u001b[0;32m    169\u001b[0m     parse_write_concern_error\u001b[39m=\u001b[39;49m\u001b[39mTrue\u001b[39;49;00m,\n\u001b[0;32m    170\u001b[0m     read_concern\u001b[39m=\u001b[39;49mread_concern,\n\u001b[0;32m    171\u001b[0m     write_concern\u001b[39m=\u001b[39;49mwrite_concern,\n\u001b[0;32m    172\u001b[0m     collation\u001b[39m=\u001b[39;49m\u001b[39mself\u001b[39;49m\u001b[39m.\u001b[39;49m_collation,\n\u001b[0;32m    173\u001b[0m     session\u001b[39m=\u001b[39;49msession,\n\u001b[0;32m    174\u001b[0m     client\u001b[39m=\u001b[39;49m\u001b[39mself\u001b[39;49m\u001b[39m.\u001b[39;49m_database\u001b[39m.\u001b[39;49mclient,\n\u001b[0;32m    175\u001b[0m     user_fields\u001b[39m=\u001b[39;49m\u001b[39mself\u001b[39;49m\u001b[39m.\u001b[39;49m_user_fields,\n\u001b[0;32m    176\u001b[0m )\n\u001b[0;32m    178\u001b[0m \u001b[39mif\u001b[39;00m \u001b[39mself\u001b[39m\u001b[39m.\u001b[39m_result_processor:\n\u001b[0;32m    179\u001b[0m     \u001b[39mself\u001b[39m\u001b[39m.\u001b[39m_result_processor(result, conn)\n",
      "File \u001b[1;32md:\\github\\futurequant\\azfunction\\FutureCrawlerStartTrigger\\.venv\\lib\\site-packages\\pymongo\\helpers.py:315\u001b[0m, in \u001b[0;36m_handle_reauth.<locals>.inner\u001b[1;34m(*args, **kwargs)\u001b[0m\n\u001b[0;32m    312\u001b[0m \u001b[39mfrom\u001b[39;00m \u001b[39mpymongo\u001b[39;00m\u001b[39m.\u001b[39;00m\u001b[39mpool\u001b[39;00m \u001b[39mimport\u001b[39;00m Connection\n\u001b[0;32m    314\u001b[0m \u001b[39mtry\u001b[39;00m:\n\u001b[1;32m--> 315\u001b[0m     \u001b[39mreturn\u001b[39;00m func(\u001b[39m*\u001b[39;49margs, \u001b[39m*\u001b[39;49m\u001b[39m*\u001b[39;49mkwargs)\n\u001b[0;32m    316\u001b[0m \u001b[39mexcept\u001b[39;00m OperationFailure \u001b[39mas\u001b[39;00m exc:\n\u001b[0;32m    317\u001b[0m     \u001b[39mif\u001b[39;00m no_reauth:\n",
      "File \u001b[1;32md:\\github\\futurequant\\azfunction\\FutureCrawlerStartTrigger\\.venv\\lib\\site-packages\\pymongo\\pool.py:932\u001b[0m, in \u001b[0;36mConnection.command\u001b[1;34m(self, dbname, spec, read_preference, codec_options, check, allowable_errors, read_concern, write_concern, parse_write_concern_error, collation, session, client, retryable_write, publish_events, user_fields, exhaust_allowed)\u001b[0m\n\u001b[0;32m    930\u001b[0m     \u001b[39mself\u001b[39m\u001b[39m.\u001b[39m_raise_if_not_writable(unacknowledged)\n\u001b[0;32m    931\u001b[0m \u001b[39mtry\u001b[39;00m:\n\u001b[1;32m--> 932\u001b[0m     \u001b[39mreturn\u001b[39;00m command(\n\u001b[0;32m    933\u001b[0m         \u001b[39mself\u001b[39;49m,\n\u001b[0;32m    934\u001b[0m         dbname,\n\u001b[0;32m    935\u001b[0m         spec,\n\u001b[0;32m    936\u001b[0m         \u001b[39mself\u001b[39;49m\u001b[39m.\u001b[39;49mis_mongos,\n\u001b[0;32m    937\u001b[0m         read_preference,\n\u001b[0;32m    938\u001b[0m         codec_options,\n\u001b[0;32m    939\u001b[0m         session,\n\u001b[0;32m    940\u001b[0m         client,\n\u001b[0;32m    941\u001b[0m         check,\n\u001b[0;32m    942\u001b[0m         allowable_errors,\n\u001b[0;32m    943\u001b[0m         \u001b[39mself\u001b[39;49m\u001b[39m.\u001b[39;49maddress,\n\u001b[0;32m    944\u001b[0m         listeners,\n\u001b[0;32m    945\u001b[0m         \u001b[39mself\u001b[39;49m\u001b[39m.\u001b[39;49mmax_bson_size,\n\u001b[0;32m    946\u001b[0m         read_concern,\n\u001b[0;32m    947\u001b[0m         parse_write_concern_error\u001b[39m=\u001b[39;49mparse_write_concern_error,\n\u001b[0;32m    948\u001b[0m         collation\u001b[39m=\u001b[39;49mcollation,\n\u001b[0;32m    949\u001b[0m         compression_ctx\u001b[39m=\u001b[39;49m\u001b[39mself\u001b[39;49m\u001b[39m.\u001b[39;49mcompression_context,\n\u001b[0;32m    950\u001b[0m         use_op_msg\u001b[39m=\u001b[39;49m\u001b[39mself\u001b[39;49m\u001b[39m.\u001b[39;49mop_msg_enabled,\n\u001b[0;32m    951\u001b[0m         unacknowledged\u001b[39m=\u001b[39;49munacknowledged,\n\u001b[0;32m    952\u001b[0m         user_fields\u001b[39m=\u001b[39;49muser_fields,\n\u001b[0;32m    953\u001b[0m         exhaust_allowed\u001b[39m=\u001b[39;49mexhaust_allowed,\n\u001b[0;32m    954\u001b[0m         write_concern\u001b[39m=\u001b[39;49mwrite_concern,\n\u001b[0;32m    955\u001b[0m     )\n\u001b[0;32m    956\u001b[0m \u001b[39mexcept\u001b[39;00m (OperationFailure, NotPrimaryError):\n\u001b[0;32m    957\u001b[0m     \u001b[39mraise\u001b[39;00m\n",
      "File \u001b[1;32md:\\github\\futurequant\\azfunction\\FutureCrawlerStartTrigger\\.venv\\lib\\site-packages\\pymongo\\network.py:191\u001b[0m, in \u001b[0;36mcommand\u001b[1;34m(conn, dbname, spec, is_mongos, read_preference, codec_options, session, client, check, allowable_errors, address, listeners, max_bson_size, read_concern, parse_write_concern_error, collation, compression_ctx, use_op_msg, unacknowledged, user_fields, exhaust_allowed, write_concern)\u001b[0m\n\u001b[0;32m    189\u001b[0m             client\u001b[39m.\u001b[39m_process_response(response_doc, session)\n\u001b[0;32m    190\u001b[0m         \u001b[39mif\u001b[39;00m check:\n\u001b[1;32m--> 191\u001b[0m             helpers\u001b[39m.\u001b[39;49m_check_command_response(\n\u001b[0;32m    192\u001b[0m                 response_doc,\n\u001b[0;32m    193\u001b[0m                 conn\u001b[39m.\u001b[39;49mmax_wire_version,\n\u001b[0;32m    194\u001b[0m                 allowable_errors,\n\u001b[0;32m    195\u001b[0m                 parse_write_concern_error\u001b[39m=\u001b[39;49mparse_write_concern_error,\n\u001b[0;32m    196\u001b[0m             )\n\u001b[0;32m    197\u001b[0m \u001b[39mexcept\u001b[39;00m \u001b[39mException\u001b[39;00m \u001b[39mas\u001b[39;00m exc:\n\u001b[0;32m    198\u001b[0m     \u001b[39mif\u001b[39;00m publish:\n",
      "File \u001b[1;32md:\\github\\futurequant\\azfunction\\FutureCrawlerStartTrigger\\.venv\\lib\\site-packages\\pymongo\\helpers.py:219\u001b[0m, in \u001b[0;36m_check_command_response\u001b[1;34m(response, max_wire_version, allowable_errors, parse_write_concern_error)\u001b[0m\n\u001b[0;32m    217\u001b[0m     \u001b[39mraise\u001b[39;00m DuplicateKeyError(errmsg, code, response, max_wire_version)\n\u001b[0;32m    218\u001b[0m \u001b[39melif\u001b[39;00m code \u001b[39m==\u001b[39m \u001b[39m50\u001b[39m:\n\u001b[1;32m--> 219\u001b[0m     \u001b[39mraise\u001b[39;00m ExecutionTimeout(errmsg, code, response, max_wire_version)\n\u001b[0;32m    220\u001b[0m \u001b[39melif\u001b[39;00m code \u001b[39m==\u001b[39m \u001b[39m43\u001b[39m:\n\u001b[0;32m    221\u001b[0m     \u001b[39mraise\u001b[39;00m CursorNotFound(errmsg, code, response, max_wire_version)\n",
      "\u001b[1;31mExecutionTimeout\u001b[0m: Request timed out. Retries due to rate limiting: True., full error: {'ok': 0.0, 'errmsg': 'Request timed out. Retries due to rate limiting: True.', 'code': 50, 'codeName': 'ExceededTimeLimit'}"
     ]
    }
   ],
   "source": [
    "from tqdm import tqdm\n",
    "for to_delete_date in reversed(dates_list):\n",
    "    print(f'clearing date {to_delete_date}')\n",
    "    for i in tqdm(range(800)):\n",
    "        print(f'{i}/800')\n",
    "        pipeline = [\n",
    "        {\"$match\":{\"date\":{\"$eq\":to_delete_date}}}, \n",
    "        { \"$group\": { \"_id\": { \"future_code\": \"$future_code\", \"clock\": \"$clock\", \"date\": \"$date\" }, \n",
    "                    \"_idsNeedsToBeDeleted\": { \"$push\": \"$$ROOT._id\" } \n",
    "                    } }, \n",
    "        { \"$project\": { \"_id\": 0, \n",
    "                    \"_idsNeedsToBeDeleted\": { \"$slice\": [\"$_idsNeedsToBeDeleted\", 1, { \"$size\": \"$_idsNeedsToBeDeleted\" }] } } },\n",
    "        { \"$unwind\": \"$_idsNeedsToBeDeleted\"  },\n",
    "        {\"$limit\":100},\n",
    "        { \"$group\": { \"_id\": \"\", \"_idsNeedsToBeDeleted\": { \"$push\": \"$_idsNeedsToBeDeleted\" } } }, \n",
    "        { \"$project\": { \"_id\": 0 } },\n",
    "        ]\n",
    "        duped_items = list(DCEdb.DCEFuturePriceDb.aggregate(pipeline))\n",
    "        if len(duped_items) ==0:\n",
    "            break\n",
    "        to_delete_items = duped_items[0]['_idsNeedsToBeDeleted']\n",
    "        # print(len(to_delete_items))\n",
    "        if len(to_delete_items) > 0:\n",
    "            DCE_future_price_collection.delete_many( { \"_id\" : {\"$in\" : to_delete_items} } )\n",
    "        else:\n",
    "            break\n",
    "\n"
   ]
  },
  {
   "cell_type": "code",
   "execution_count": null,
   "metadata": {},
   "outputs": [],
   "source": []
  }
 ],
 "metadata": {
  "kernelspec": {
   "display_name": ".venv",
   "language": "python",
   "name": "python3"
  },
  "language_info": {
   "codemirror_mode": {
    "name": "ipython",
    "version": 3
   },
   "file_extension": ".py",
   "mimetype": "text/x-python",
   "name": "python",
   "nbconvert_exporter": "python",
   "pygments_lexer": "ipython3",
   "version": "3.8.10"
  },
  "orig_nbformat": 4
 },
 "nbformat": 4,
 "nbformat_minor": 2
}
